{
  "cells": [
    {
      "cell_type": "code",
      "execution_count": null,
      "id": "ab873091",
      "metadata": {
        "id": "ab873091"
      },
      "outputs": [],
      "source": [
        "import pandas as pd\n",
        "import numpy as np\n",
        "import seaborn as sns\n",
        "import matplotlib.pyplot as plt"
      ]
    },
    {
      "cell_type": "markdown",
      "id": "FYG3UoAGiRW2",
      "metadata": {
        "id": "FYG3UoAGiRW2"
      },
      "source": [
        "#Milestone 2: Data Exploration & Initial Preprocessing"
      ]
    },
    {
      "cell_type": "code",
      "execution_count": null,
      "id": "77d2f7b0",
      "metadata": {
        "colab": {
          "base_uri": "https://localhost:8080/"
        },
        "id": "77d2f7b0",
        "outputId": "d7c32c68-5fda-40fe-d160-f2be3aa53659"
      },
      "outputs": [
        {
          "name": "stdout",
          "output_type": "stream",
          "text": [
            "'Neurons&NumLayers_MILESTONE4 (1).ipynb'   grid_search\n",
            " flights.csv\t\t\t\t   untitled_project\n"
          ]
        }
      ],
      "source": [
        "!ls"
      ]
    },
    {
      "cell_type": "code",
      "execution_count": null,
      "id": "UjX_SAevTnFl",
      "metadata": {
        "id": "UjX_SAevTnFl"
      },
      "outputs": [],
      "source": [
        "df = pd.read_csv('flights.csv')"
      ]
    },
    {
      "cell_type": "code",
      "execution_count": null,
      "id": "0599a48a",
      "metadata": {
        "colab": {
          "base_uri": "https://localhost:8080/",
          "height": 412
        },
        "id": "0599a48a",
        "outputId": "e3609154-a172-4f1f-bdd0-1aa57ed73797"
      },
      "outputs": [
        {
          "data": {
            "text/html": [
              "<div>\n",
              "<style scoped>\n",
              "    .dataframe tbody tr th:only-of-type {\n",
              "        vertical-align: middle;\n",
              "    }\n",
              "\n",
              "    .dataframe tbody tr th {\n",
              "        vertical-align: top;\n",
              "    }\n",
              "\n",
              "    .dataframe thead th {\n",
              "        text-align: right;\n",
              "    }\n",
              "</style>\n",
              "<table border=\"1\" class=\"dataframe\">\n",
              "  <thead>\n",
              "    <tr style=\"text-align: right;\">\n",
              "      <th></th>\n",
              "      <th>id</th>\n",
              "      <th>year</th>\n",
              "      <th>month</th>\n",
              "      <th>day</th>\n",
              "      <th>dep_time</th>\n",
              "      <th>sched_dep_time</th>\n",
              "      <th>dep_delay</th>\n",
              "      <th>arr_time</th>\n",
              "      <th>sched_arr_time</th>\n",
              "      <th>arr_delay</th>\n",
              "      <th>...</th>\n",
              "      <th>flight</th>\n",
              "      <th>tailnum</th>\n",
              "      <th>origin</th>\n",
              "      <th>dest</th>\n",
              "      <th>air_time</th>\n",
              "      <th>distance</th>\n",
              "      <th>hour</th>\n",
              "      <th>minute</th>\n",
              "      <th>time_hour</th>\n",
              "      <th>name</th>\n",
              "    </tr>\n",
              "  </thead>\n",
              "  <tbody>\n",
              "    <tr>\n",
              "      <th>0</th>\n",
              "      <td>0</td>\n",
              "      <td>2013</td>\n",
              "      <td>1</td>\n",
              "      <td>1</td>\n",
              "      <td>517.0</td>\n",
              "      <td>515</td>\n",
              "      <td>2.0</td>\n",
              "      <td>830.0</td>\n",
              "      <td>819</td>\n",
              "      <td>11.0</td>\n",
              "      <td>...</td>\n",
              "      <td>1545</td>\n",
              "      <td>N14228</td>\n",
              "      <td>EWR</td>\n",
              "      <td>IAH</td>\n",
              "      <td>227.0</td>\n",
              "      <td>1400</td>\n",
              "      <td>5</td>\n",
              "      <td>15</td>\n",
              "      <td>2013-01-01 05:00:00</td>\n",
              "      <td>United Air Lines Inc.</td>\n",
              "    </tr>\n",
              "    <tr>\n",
              "      <th>1</th>\n",
              "      <td>1</td>\n",
              "      <td>2013</td>\n",
              "      <td>1</td>\n",
              "      <td>1</td>\n",
              "      <td>533.0</td>\n",
              "      <td>529</td>\n",
              "      <td>4.0</td>\n",
              "      <td>850.0</td>\n",
              "      <td>830</td>\n",
              "      <td>20.0</td>\n",
              "      <td>...</td>\n",
              "      <td>1714</td>\n",
              "      <td>N24211</td>\n",
              "      <td>LGA</td>\n",
              "      <td>IAH</td>\n",
              "      <td>227.0</td>\n",
              "      <td>1416</td>\n",
              "      <td>5</td>\n",
              "      <td>29</td>\n",
              "      <td>2013-01-01 05:00:00</td>\n",
              "      <td>United Air Lines Inc.</td>\n",
              "    </tr>\n",
              "    <tr>\n",
              "      <th>2</th>\n",
              "      <td>2</td>\n",
              "      <td>2013</td>\n",
              "      <td>1</td>\n",
              "      <td>1</td>\n",
              "      <td>542.0</td>\n",
              "      <td>540</td>\n",
              "      <td>2.0</td>\n",
              "      <td>923.0</td>\n",
              "      <td>850</td>\n",
              "      <td>33.0</td>\n",
              "      <td>...</td>\n",
              "      <td>1141</td>\n",
              "      <td>N619AA</td>\n",
              "      <td>JFK</td>\n",
              "      <td>MIA</td>\n",
              "      <td>160.0</td>\n",
              "      <td>1089</td>\n",
              "      <td>5</td>\n",
              "      <td>40</td>\n",
              "      <td>2013-01-01 05:00:00</td>\n",
              "      <td>American Airlines Inc.</td>\n",
              "    </tr>\n",
              "    <tr>\n",
              "      <th>3</th>\n",
              "      <td>3</td>\n",
              "      <td>2013</td>\n",
              "      <td>1</td>\n",
              "      <td>1</td>\n",
              "      <td>544.0</td>\n",
              "      <td>545</td>\n",
              "      <td>-1.0</td>\n",
              "      <td>1004.0</td>\n",
              "      <td>1022</td>\n",
              "      <td>-18.0</td>\n",
              "      <td>...</td>\n",
              "      <td>725</td>\n",
              "      <td>N804JB</td>\n",
              "      <td>JFK</td>\n",
              "      <td>BQN</td>\n",
              "      <td>183.0</td>\n",
              "      <td>1576</td>\n",
              "      <td>5</td>\n",
              "      <td>45</td>\n",
              "      <td>2013-01-01 05:00:00</td>\n",
              "      <td>JetBlue Airways</td>\n",
              "    </tr>\n",
              "    <tr>\n",
              "      <th>4</th>\n",
              "      <td>4</td>\n",
              "      <td>2013</td>\n",
              "      <td>1</td>\n",
              "      <td>1</td>\n",
              "      <td>554.0</td>\n",
              "      <td>600</td>\n",
              "      <td>-6.0</td>\n",
              "      <td>812.0</td>\n",
              "      <td>837</td>\n",
              "      <td>-25.0</td>\n",
              "      <td>...</td>\n",
              "      <td>461</td>\n",
              "      <td>N668DN</td>\n",
              "      <td>LGA</td>\n",
              "      <td>ATL</td>\n",
              "      <td>116.0</td>\n",
              "      <td>762</td>\n",
              "      <td>6</td>\n",
              "      <td>0</td>\n",
              "      <td>2013-01-01 06:00:00</td>\n",
              "      <td>Delta Air Lines Inc.</td>\n",
              "    </tr>\n",
              "  </tbody>\n",
              "</table>\n",
              "<p>5 rows × 21 columns</p>\n",
              "</div>"
            ],
            "text/plain": [
              "   id  year  month  day  dep_time  sched_dep_time  dep_delay  arr_time  \\\n",
              "0   0  2013      1    1     517.0             515        2.0     830.0   \n",
              "1   1  2013      1    1     533.0             529        4.0     850.0   \n",
              "2   2  2013      1    1     542.0             540        2.0     923.0   \n",
              "3   3  2013      1    1     544.0             545       -1.0    1004.0   \n",
              "4   4  2013      1    1     554.0             600       -6.0     812.0   \n",
              "\n",
              "   sched_arr_time  arr_delay  ... flight  tailnum origin dest air_time  \\\n",
              "0             819       11.0  ...   1545   N14228    EWR  IAH    227.0   \n",
              "1             830       20.0  ...   1714   N24211    LGA  IAH    227.0   \n",
              "2             850       33.0  ...   1141   N619AA    JFK  MIA    160.0   \n",
              "3            1022      -18.0  ...    725   N804JB    JFK  BQN    183.0   \n",
              "4             837      -25.0  ...    461   N668DN    LGA  ATL    116.0   \n",
              "\n",
              "   distance  hour  minute            time_hour                    name  \n",
              "0      1400     5      15  2013-01-01 05:00:00   United Air Lines Inc.  \n",
              "1      1416     5      29  2013-01-01 05:00:00   United Air Lines Inc.  \n",
              "2      1089     5      40  2013-01-01 05:00:00  American Airlines Inc.  \n",
              "3      1576     5      45  2013-01-01 05:00:00         JetBlue Airways  \n",
              "4       762     6       0  2013-01-01 06:00:00    Delta Air Lines Inc.  \n",
              "\n",
              "[5 rows x 21 columns]"
            ]
          },
          "execution_count": 4,
          "metadata": {},
          "output_type": "execute_result"
        }
      ],
      "source": [
        "df.head()"
      ]
    },
    {
      "cell_type": "code",
      "execution_count": null,
      "id": "a651b831",
      "metadata": {
        "colab": {
          "base_uri": "https://localhost:8080/"
        },
        "id": "a651b831",
        "outputId": "a1d690f8-1bab-48af-d3a7-51ff6c40f605",
        "scrolled": true
      },
      "outputs": [
        {
          "data": {
            "text/plain": [
              "Index(['id', 'year', 'month', 'day', 'dep_time', 'sched_dep_time', 'dep_delay',\n",
              "       'arr_time', 'sched_arr_time', 'arr_delay', 'carrier', 'flight',\n",
              "       'tailnum', 'origin', 'dest', 'air_time', 'distance', 'hour', 'minute',\n",
              "       'time_hour', 'name'],\n",
              "      dtype='object')"
            ]
          },
          "execution_count": 5,
          "metadata": {},
          "output_type": "execute_result"
        }
      ],
      "source": [
        "df.columns"
      ]
    },
    {
      "cell_type": "markdown",
      "id": "NmI7AsFuim4X",
      "metadata": {
        "id": "NmI7AsFuim4X"
      },
      "source": [
        "**Column Descriptions:**\n",
        "\n",
        "id: A unique identifier for each flight record in the dataset.\n",
        "\n",
        "month: The month in which the flight took place (1 to 12).\n",
        "\n",
        "day: The day of the month on which the flight took place (1 to 31).\n",
        "\n",
        "dep_time: The actual local departure time of the flight, in 24-hour format (hhmm).\n",
        "\n",
        "sched_dep_time: The scheduled local departure time of the flight, in 24-hour format (hhmm).\n",
        "\n",
        "dep_delay: The difference between the actual and scheduled departure times of the flight, in minutes. A positive value indicates a delayed departure, while a negative value indicates an early departure.\n",
        "\n",
        "arr_time: The actual local arrival time of the flight, in 24-hour format (hhmm).\n",
        "\n",
        "sched_arr_time: The scheduled local arrival time of the flight, in 24-hour format (hhmm).\n",
        "\n",
        "arr_delay: The difference between the actual and scheduled arrival times of the flight, in minutes. A positive value indicates a delayed arrival, while a negative value indicates an early arrival.\n",
        "\n",
        "carrier: The two-letter code of the airline carrier for the flight.\n",
        "\n",
        "flight: The flight number of the flight.\n",
        "\n",
        "tailnum: The unique identifier of the aircraft used for the flight.\n",
        "\n",
        "origin: The three-letter code of the airport of origin for the flight.\n",
        "\n",
        "dest: The three-letter code of the destination airport for the flight.\n",
        "\n",
        "air_time: The duration of the flight, in minutes.\n",
        "\n",
        "distance: The distance between the origin and destination airports, in miles.\n",
        "\n"
      ]
    },
    {
      "cell_type": "code",
      "execution_count": null,
      "id": "c40fde9d",
      "metadata": {
        "colab": {
          "base_uri": "https://localhost:8080/"
        },
        "id": "c40fde9d",
        "outputId": "b0fc2a7d-3f8a-4d8d-d52c-92ea901e539e"
      },
      "outputs": [
        {
          "data": {
            "text/plain": [
              "array([2013])"
            ]
          },
          "execution_count": 6,
          "metadata": {},
          "output_type": "execute_result"
        }
      ],
      "source": [
        "df['year'].unique()"
      ]
    },
    {
      "cell_type": "code",
      "execution_count": null,
      "id": "be0bb7b3",
      "metadata": {
        "id": "be0bb7b3"
      },
      "outputs": [],
      "source": [
        "df=df.drop(columns=['year', 'name', 'hour', 'minute', 'time_hour'])"
      ]
    },
    {
      "cell_type": "code",
      "execution_count": null,
      "id": "abb0d477",
      "metadata": {
        "colab": {
          "base_uri": "https://localhost:8080/"
        },
        "id": "abb0d477",
        "outputId": "2922a1f9-7871-4f0c-cbe7-fa3ef2d657b4"
      },
      "outputs": [
        {
          "data": {
            "text/plain": [
              "id                   0\n",
              "month                0\n",
              "day                  0\n",
              "dep_time          8255\n",
              "sched_dep_time       0\n",
              "dep_delay         8255\n",
              "arr_time          8713\n",
              "sched_arr_time       0\n",
              "arr_delay         9430\n",
              "carrier              0\n",
              "flight               0\n",
              "tailnum           2512\n",
              "origin               0\n",
              "dest                 0\n",
              "air_time          9430\n",
              "distance             0\n",
              "dtype: int64"
            ]
          },
          "execution_count": 8,
          "metadata": {},
          "output_type": "execute_result"
        }
      ],
      "source": [
        "df.isna().sum()"
      ]
    },
    {
      "cell_type": "code",
      "execution_count": null,
      "id": "6f2fff0a",
      "metadata": {
        "id": "6f2fff0a"
      },
      "outputs": [],
      "source": [
        "df = df.dropna(subset=['dep_time', 'arr_time', 'arr_delay', 'air_time'])"
      ]
    },
    {
      "cell_type": "code",
      "execution_count": null,
      "id": "5ec6879e",
      "metadata": {
        "colab": {
          "base_uri": "https://localhost:8080/"
        },
        "id": "5ec6879e",
        "outputId": "415dfa80-0c95-4b6c-b3c7-56a98b9a7cd4",
        "scrolled": true
      },
      "outputs": [
        {
          "data": {
            "text/plain": [
              "id                0\n",
              "month             0\n",
              "day               0\n",
              "dep_time          0\n",
              "sched_dep_time    0\n",
              "dep_delay         0\n",
              "arr_time          0\n",
              "sched_arr_time    0\n",
              "arr_delay         0\n",
              "carrier           0\n",
              "flight            0\n",
              "tailnum           0\n",
              "origin            0\n",
              "dest              0\n",
              "air_time          0\n",
              "distance          0\n",
              "dtype: int64"
            ]
          },
          "execution_count": 10,
          "metadata": {},
          "output_type": "execute_result"
        }
      ],
      "source": [
        "df.isna().sum()"
      ]
    },
    {
      "cell_type": "code",
      "execution_count": null,
      "id": "baf3f53e",
      "metadata": {
        "colab": {
          "base_uri": "https://localhost:8080/"
        },
        "id": "baf3f53e",
        "outputId": "d4ddb0a5-8a99-4ed7-ac24-e8386a760200"
      },
      "outputs": [
        {
          "data": {
            "text/plain": [
              "id                  int64\n",
              "month               int64\n",
              "day                 int64\n",
              "dep_time          float64\n",
              "sched_dep_time      int64\n",
              "dep_delay         float64\n",
              "arr_time          float64\n",
              "sched_arr_time      int64\n",
              "arr_delay         float64\n",
              "carrier            object\n",
              "flight              int64\n",
              "tailnum            object\n",
              "origin             object\n",
              "dest               object\n",
              "air_time          float64\n",
              "distance            int64\n",
              "dtype: object"
            ]
          },
          "execution_count": 11,
          "metadata": {},
          "output_type": "execute_result"
        }
      ],
      "source": [
        "df.dtypes"
      ]
    },
    {
      "cell_type": "code",
      "execution_count": null,
      "id": "8eac44c3",
      "metadata": {
        "id": "8eac44c3",
        "scrolled": true
      },
      "outputs": [],
      "source": [
        "df['dep_time'] = df['dep_time'].astype(int)\n",
        "df['dep_delay'] = df['dep_delay'].astype(int)\n",
        "df['arr_time'] = df['arr_time'].astype(int)\n",
        "df['dep_time'] = df['dep_time'].astype(int)\n",
        "df['arr_delay'] = df['arr_delay'].astype(int)\n",
        "df['air_time'] = df['air_time'].astype(int)"
      ]
    },
    {
      "cell_type": "code",
      "execution_count": null,
      "id": "72edf01f",
      "metadata": {
        "colab": {
          "base_uri": "https://localhost:8080/"
        },
        "id": "72edf01f",
        "outputId": "e0d63c99-a904-4b6e-fc23-6d9714467072"
      },
      "outputs": [
        {
          "data": {
            "text/plain": [
              "id                 int64\n",
              "month              int64\n",
              "day                int64\n",
              "dep_time           int64\n",
              "sched_dep_time     int64\n",
              "dep_delay          int64\n",
              "arr_time           int64\n",
              "sched_arr_time     int64\n",
              "arr_delay          int64\n",
              "carrier           object\n",
              "flight             int64\n",
              "tailnum           object\n",
              "origin            object\n",
              "dest              object\n",
              "air_time           int64\n",
              "distance           int64\n",
              "dtype: object"
            ]
          },
          "execution_count": 13,
          "metadata": {},
          "output_type": "execute_result"
        }
      ],
      "source": [
        "df.dtypes"
      ]
    },
    {
      "cell_type": "code",
      "execution_count": null,
      "id": "6a844f18",
      "metadata": {
        "colab": {
          "base_uri": "https://localhost:8080/"
        },
        "id": "6a844f18",
        "outputId": "1b3542c9-fc4d-45ce-bc5a-450e642d729e"
      },
      "outputs": [
        {
          "data": {
            "text/plain": [
              "(327346, 16)"
            ]
          },
          "execution_count": 14,
          "metadata": {},
          "output_type": "execute_result"
        }
      ],
      "source": [
        "df.shape"
      ]
    },
    {
      "cell_type": "code",
      "execution_count": null,
      "id": "9603cdbc",
      "metadata": {
        "colab": {
          "base_uri": "https://localhost:8080/"
        },
        "id": "9603cdbc",
        "outputId": "e9ebdb02-b9ac-4a22-dd0e-662119b2d49d"
      },
      "outputs": [
        {
          "data": {
            "text/plain": [
              "Index(['id', 'month', 'day', 'dep_time', 'sched_dep_time', 'dep_delay',\n",
              "       'arr_time', 'sched_arr_time', 'arr_delay', 'carrier', 'flight',\n",
              "       'tailnum', 'origin', 'dest', 'air_time', 'distance'],\n",
              "      dtype='object')"
            ]
          },
          "execution_count": 15,
          "metadata": {},
          "output_type": "execute_result"
        }
      ],
      "source": [
        "df.columns"
      ]
    },
    {
      "cell_type": "code",
      "execution_count": null,
      "id": "c7c00ed9",
      "metadata": {
        "colab": {
          "base_uri": "https://localhost:8080/"
        },
        "id": "c7c00ed9",
        "outputId": "3a5370c8-bad2-4a09-9db3-d570cc789109"
      },
      "outputs": [
        {
          "data": {
            "text/plain": [
              "array([ 1, 10, 11, 12,  2,  3,  4,  5,  6,  7,  8,  9])"
            ]
          },
          "execution_count": 16,
          "metadata": {},
          "output_type": "execute_result"
        }
      ],
      "source": [
        "df['month'].unique()"
      ]
    },
    {
      "cell_type": "code",
      "execution_count": null,
      "id": "3fa029d2",
      "metadata": {
        "colab": {
          "base_uri": "https://localhost:8080/"
        },
        "id": "3fa029d2",
        "outputId": "ee630e1c-7092-4fec-aded-e95a005336c6"
      },
      "outputs": [
        {
          "data": {
            "text/plain": [
              "array([ 1,  2,  3,  4,  5,  6,  7,  8,  9, 10, 11, 12, 13, 14, 15, 16, 17,\n",
              "       18, 19, 20, 21, 22, 23, 24, 25, 26, 27, 28, 29, 30, 31])"
            ]
          },
          "execution_count": 17,
          "metadata": {},
          "output_type": "execute_result"
        }
      ],
      "source": [
        "df['day'].unique()"
      ]
    },
    {
      "cell_type": "code",
      "execution_count": null,
      "id": "635fa9d4",
      "metadata": {
        "colab": {
          "base_uri": "https://localhost:8080/"
        },
        "id": "635fa9d4",
        "outputId": "932002a7-ebcd-4560-8934-be129cf1433e"
      },
      "outputs": [
        {
          "data": {
            "text/plain": [
              "1317"
            ]
          },
          "execution_count": 18,
          "metadata": {},
          "output_type": "execute_result"
        }
      ],
      "source": [
        "len(df['dep_time'].unique())"
      ]
    },
    {
      "cell_type": "code",
      "execution_count": null,
      "id": "139ac0ce",
      "metadata": {
        "colab": {
          "base_uri": "https://localhost:8080/"
        },
        "id": "139ac0ce",
        "outputId": "cfbf1c5a-9644-452c-9426-a1933eaedab0"
      },
      "outputs": [
        {
          "data": {
            "text/plain": [
              "1020"
            ]
          },
          "execution_count": 19,
          "metadata": {},
          "output_type": "execute_result"
        }
      ],
      "source": [
        "len(df['sched_dep_time'].unique())"
      ]
    },
    {
      "cell_type": "code",
      "execution_count": null,
      "id": "4d67b4e2",
      "metadata": {
        "colab": {
          "base_uri": "https://localhost:8080/"
        },
        "id": "4d67b4e2",
        "outputId": "3890d27e-1f9c-43db-d144-03694bc26c54"
      },
      "outputs": [
        {
          "data": {
            "text/plain": [
              "count    327346.000000\n",
              "mean         12.555156\n",
              "std          40.065688\n",
              "min         -43.000000\n",
              "25%          -5.000000\n",
              "50%          -2.000000\n",
              "75%          11.000000\n",
              "max        1301.000000\n",
              "Name: dep_delay, dtype: float64"
            ]
          },
          "execution_count": 20,
          "metadata": {},
          "output_type": "execute_result"
        }
      ],
      "source": [
        "df['dep_delay'].describe()"
      ]
    },
    {
      "cell_type": "code",
      "execution_count": null,
      "id": "755b6035",
      "metadata": {
        "colab": {
          "base_uri": "https://localhost:8080/"
        },
        "id": "755b6035",
        "outputId": "86e84e1c-8d47-46b3-862e-4b0e2259ba4c"
      },
      "outputs": [
        {
          "data": {
            "text/plain": [
              "1410"
            ]
          },
          "execution_count": 21,
          "metadata": {},
          "output_type": "execute_result"
        }
      ],
      "source": [
        "len(df['arr_time'].unique())"
      ]
    },
    {
      "cell_type": "code",
      "execution_count": null,
      "id": "92cf5356",
      "metadata": {
        "colab": {
          "base_uri": "https://localhost:8080/"
        },
        "id": "92cf5356",
        "outputId": "dd4a7f62-8d23-4999-8e37-d4f029173a2d"
      },
      "outputs": [
        {
          "data": {
            "text/plain": [
              "1162"
            ]
          },
          "execution_count": 22,
          "metadata": {},
          "output_type": "execute_result"
        }
      ],
      "source": [
        "len(df['sched_arr_time'].unique())"
      ]
    },
    {
      "cell_type": "code",
      "execution_count": null,
      "id": "3327cc23",
      "metadata": {
        "colab": {
          "base_uri": "https://localhost:8080/"
        },
        "id": "3327cc23",
        "outputId": "4ade4d6f-1d5a-403c-c7d5-e37698eca099"
      },
      "outputs": [
        {
          "data": {
            "text/plain": [
              "count    327346.000000\n",
              "mean          6.895377\n",
              "std          44.633292\n",
              "min         -86.000000\n",
              "25%         -17.000000\n",
              "50%          -5.000000\n",
              "75%          14.000000\n",
              "max        1272.000000\n",
              "Name: arr_delay, dtype: float64"
            ]
          },
          "execution_count": 23,
          "metadata": {},
          "output_type": "execute_result"
        }
      ],
      "source": [
        "df['arr_delay'].describe()"
      ]
    },
    {
      "cell_type": "code",
      "execution_count": null,
      "id": "780b152b",
      "metadata": {
        "colab": {
          "base_uri": "https://localhost:8080/"
        },
        "id": "780b152b",
        "outputId": "fd1e72dc-c70d-42ca-9812-95f4240f520d"
      },
      "outputs": [
        {
          "data": {
            "text/plain": [
              "array(['UA', 'AA', 'B6', 'DL', 'EV', 'MQ', 'US', 'WN', 'VX', 'FL', 'AS',\n",
              "       '9E', 'F9', 'HA', 'YV', 'OO'], dtype=object)"
            ]
          },
          "execution_count": 24,
          "metadata": {},
          "output_type": "execute_result"
        }
      ],
      "source": [
        "df['carrier'].unique()"
      ]
    },
    {
      "cell_type": "code",
      "execution_count": null,
      "id": "6d02be98",
      "metadata": {
        "colab": {
          "base_uri": "https://localhost:8080/"
        },
        "id": "6d02be98",
        "outputId": "842f22dd-7b09-407a-cb91-8e1a61daae41"
      },
      "outputs": [
        {
          "data": {
            "text/plain": [
              "3835"
            ]
          },
          "execution_count": 25,
          "metadata": {},
          "output_type": "execute_result"
        }
      ],
      "source": [
        "len(df['flight'].unique())"
      ]
    },
    {
      "cell_type": "code",
      "execution_count": null,
      "id": "12674bd8",
      "metadata": {
        "colab": {
          "base_uri": "https://localhost:8080/"
        },
        "id": "12674bd8",
        "outputId": "67be7ca5-6a3f-437e-e804-a45c14654c11"
      },
      "outputs": [
        {
          "data": {
            "text/plain": [
              "4037"
            ]
          },
          "execution_count": 26,
          "metadata": {},
          "output_type": "execute_result"
        }
      ],
      "source": [
        "len(df['tailnum'].unique())"
      ]
    },
    {
      "cell_type": "code",
      "execution_count": null,
      "id": "44842fa5",
      "metadata": {
        "colab": {
          "base_uri": "https://localhost:8080/"
        },
        "id": "44842fa5",
        "outputId": "15792038-3e5e-440e-f014-c2e6ee807454"
      },
      "outputs": [
        {
          "data": {
            "text/plain": [
              "array(['EWR', 'LGA', 'JFK'], dtype=object)"
            ]
          },
          "execution_count": 27,
          "metadata": {},
          "output_type": "execute_result"
        }
      ],
      "source": [
        "df['origin'].unique()"
      ]
    },
    {
      "cell_type": "code",
      "execution_count": null,
      "id": "d1cf8bd8",
      "metadata": {
        "colab": {
          "base_uri": "https://localhost:8080/"
        },
        "id": "d1cf8bd8",
        "outputId": "a0113d5f-96dc-47c6-c70f-436320a0980e"
      },
      "outputs": [
        {
          "data": {
            "text/plain": [
              "array(['IAH', 'MIA', 'BQN', 'ATL', 'ORD', 'FLL', 'IAD', 'MCO', 'PBI',\n",
              "       'TPA', 'LAX', 'SFO', 'DFW', 'BOS', 'LAS', 'MSP', 'DTW', 'RSW',\n",
              "       'SJU', 'PHX', 'BWI', 'CLT', 'BUF', 'DEN', 'SNA', 'MSY', 'SLC',\n",
              "       'XNA', 'MKE', 'SEA', 'ROC', 'SYR', 'SRQ', 'RDU', 'CMH', 'JAX',\n",
              "       'CHS', 'MEM', 'PIT', 'SAN', 'DCA', 'CLE', 'STL', 'MYR', 'JAC',\n",
              "       'MDW', 'HNL', 'BNA', 'AUS', 'BTV', 'PHL', 'STT', 'EGE', 'AVL',\n",
              "       'PWM', 'IND', 'SAV', 'CAK', 'HOU', 'LGB', 'DAY', 'ALB', 'BDL',\n",
              "       'MHT', 'MSN', 'GSO', 'CVG', 'BUR', 'RIC', 'GSP', 'GRR', 'MCI',\n",
              "       'ORF', 'SAT', 'SDF', 'PDX', 'SJC', 'OMA', 'CRW', 'OAK', 'SMF',\n",
              "       'TYS', 'PVD', 'DSM', 'PSE', 'TUL', 'BHM', 'OKC', 'CAE', 'HDN',\n",
              "       'BZN', 'MTJ', 'EYW', 'PSP', 'ACK', 'BGR', 'ABQ', 'ILM', 'MVY',\n",
              "       'SBN', 'LEX', 'CHO', 'TVC', 'ANC'], dtype=object)"
            ]
          },
          "execution_count": 28,
          "metadata": {},
          "output_type": "execute_result"
        }
      ],
      "source": [
        "df['dest'].unique()"
      ]
    },
    {
      "cell_type": "code",
      "execution_count": null,
      "id": "3a625a89",
      "metadata": {
        "colab": {
          "base_uri": "https://localhost:8080/"
        },
        "id": "3a625a89",
        "outputId": "4b1d0208-2ed1-43ca-a081-73f634265444"
      },
      "outputs": [
        {
          "data": {
            "text/plain": [
              "count    327346.000000\n",
              "mean        150.686460\n",
              "std          93.688305\n",
              "min          20.000000\n",
              "25%          82.000000\n",
              "50%         129.000000\n",
              "75%         192.000000\n",
              "max         695.000000\n",
              "Name: air_time, dtype: float64"
            ]
          },
          "execution_count": 29,
          "metadata": {},
          "output_type": "execute_result"
        }
      ],
      "source": [
        "df['air_time'].describe()"
      ]
    },
    {
      "cell_type": "code",
      "execution_count": null,
      "id": "99206ba8",
      "metadata": {
        "colab": {
          "base_uri": "https://localhost:8080/"
        },
        "id": "99206ba8",
        "outputId": "169a57c4-ac22-4b18-829a-9a2b1f54dcc6"
      },
      "outputs": [
        {
          "data": {
            "text/plain": [
              "count    327346.000000\n",
              "mean       1048.371314\n",
              "std         735.908523\n",
              "min          80.000000\n",
              "25%         509.000000\n",
              "50%         888.000000\n",
              "75%        1389.000000\n",
              "max        4983.000000\n",
              "Name: distance, dtype: float64"
            ]
          },
          "execution_count": 30,
          "metadata": {},
          "output_type": "execute_result"
        }
      ],
      "source": [
        "df['distance'].describe()"
      ]
    },
    {
      "cell_type": "code",
      "execution_count": null,
      "id": "988c1e7a",
      "metadata": {
        "id": "988c1e7a"
      },
      "outputs": [],
      "source": [
        "# NOTE: Pairplots from Milestone 2 currently commented out since they take a long time to run.\n",
        "\n",
        "sns.pairplot(df, hue='carrier')\n",
        "plt.show()"
      ]
    },
    {
      "cell_type": "code",
      "execution_count": null,
      "id": "8d5fba4a",
      "metadata": {
        "id": "8d5fba4a"
      },
      "outputs": [],
      "source": [
        "sns.pairplot(df, hue='origin')\n",
        "plt.show()"
      ]
    },
    {
      "cell_type": "code",
      "execution_count": null,
      "id": "5781e71a",
      "metadata": {
        "id": "5781e71a"
      },
      "outputs": [],
      "source": [
        "sns.pairplot(df, hue='dest')\n",
        "plt.show()"
      ]
    },
    {
      "cell_type": "markdown",
      "id": "Tklm4QhgjI-B",
      "metadata": {
        "id": "Tklm4QhgjI-B"
      },
      "source": [
        "#Milestone 3: Intial Model"
      ]
    },
    {
      "cell_type": "code",
      "execution_count": null,
      "id": "y5qrHoF1GfL_",
      "metadata": {
        "id": "y5qrHoF1GfL_"
      },
      "outputs": [],
      "source": [
        "# function to convert hhmm time format to number of minutes since January 1st 2013 (written by Devam)\n",
        "\n",
        "def convert_to_mins(month, day, time):\n",
        "\n",
        "    if month > 1:\n",
        "      day += 31\n",
        "    if month > 2:\n",
        "      day += 28\n",
        "    if month > 3:\n",
        "      day += 31\n",
        "    if month > 4:\n",
        "      day += 30\n",
        "    if month > 5:\n",
        "      day += 31\n",
        "    if month > 6:\n",
        "      day += 30\n",
        "    if month > 7:\n",
        "      day += 31\n",
        "    if month > 8:\n",
        "      day += 31\n",
        "    if month > 9:\n",
        "      day += 30\n",
        "    if month > 10:\n",
        "      day += 31\n",
        "    if month > 11:\n",
        "      day += 30\n",
        "\n",
        "    minutes_in_day = (day - 1) * 24 * 60\n",
        "\n",
        "    hours = time // 100\n",
        "    minutes = time % 100\n",
        "\n",
        "    total_minutes = (hours * 60) + minutes\n",
        "\n",
        "    total_minutes_passed = minutes_in_day + total_minutes\n",
        "\n",
        "    return total_minutes_passed"
      ]
    },
    {
      "cell_type": "code",
      "execution_count": null,
      "id": "D6zNREWsZ-i0",
      "metadata": {
        "id": "D6zNREWsZ-i0"
      },
      "outputs": [],
      "source": [
        "# function that calculates time difference (\"offset\") between origin and destination airport, taking daylight savings into consideration (written by Sydney)\n",
        "# dest is string; month, day, dep_time are ints; returns int representing how many hours destination airport's time zone is ahead of origin airport's time zone\n",
        "def offset(dest, month, day, dep_time):\n",
        "\n",
        "  timezone_dict = {'ABQ':'MDT', 'ACK':'EDT', 'ALB':'EDT', 'ANC':'ADT', 'ATL':'EDT', 'AUS':'CDT', 'AVL':'EDT', 'BDL':'EDT', 'BGR':'EDT', 'BHM':'CDT', 'BNA':'CDT', 'BOS':'EDT',\n",
        " 'BQN':'ADT', 'BTV':'EDT', 'BUF':'EDT', 'BUR':'PDT', 'BWI':'EDT', 'BZN':'MDT', 'CAE':'EDT', 'CAK':'EDT', 'CHO':'EDT', 'CHS':'EDT', 'CLE':'EDT', 'CLT':'EDT',\n",
        " 'CMH':'EDT', 'CRW':'EDT', 'CVG':'EDT', 'DAY':'EDT', 'DCA':'EDT', 'DEN':'MDT', 'DFW':'CDT', 'DSM':'CDT', 'DTW':'EDT', 'EGE':'MDT', 'EYW':'EDT', 'FLL':'EDT',\n",
        " 'GRR':'EDT', 'GSO':'EDT', 'GSP':'EDT', 'HDN':'MDT', 'HNL':'HST', 'HOU':'CDT', 'IAD':'EDT', 'IAH':'CDT', 'ILM':'EDT', 'IND':'EDT', 'JAC':'MDT', 'JAX':'EDT',\n",
        " 'LAS':'PDT', 'LAX':'PDT', 'LEX':'EDT', 'LGB':'PDT', 'MCI':'CDT', 'MCO':'EDT', 'MDW':'CDT', 'MEM':'CDT', 'MHT':'EDT', 'MIA':'EDT', 'MKE':'CDT', 'MSN':'CDT',\n",
        " 'MSP':'CDT', 'MSY':'CDT', 'MTJ':'MDT', 'MVY':'EDT', 'MYR':'EDT', 'OAK':'PDT', 'OKC':'CDT', 'OMA':'CDT', 'ORD':'CDT', 'ORF':'EDT', 'PBI':'EDT', 'PDX':'PDT',\n",
        " 'PHL':'EDT', 'PHX':'MST', 'PIT':'EDT', 'PSE':'AST', 'PSP':'PDT', 'PVD':'EDT', 'PWM':'EDT', 'RDU':'EDT', 'RIC':'EDT', 'ROC':'EDT', 'RSW':'EDT', 'SAN':'PDT',\n",
        " 'SAT':'CDT', 'SAV':'EDT', 'SBN':'EDT', 'SDF':'EDT', 'SEA':'PDT', 'SFO':'PDT', 'SJC':'PDT', 'SJU':'AST', 'SLC':'MDT', 'SMF':'PDT', 'SNA':'PDT', 'SRQ':'EDT',\n",
        " 'STL':'CDT', 'STT':'AST', 'SYR':'EDT', 'TPA':'EDT', 'TUL':'CDT', 'TVC':'PDT', 'TYS':'PDT', 'XNA':'CDT'}\n",
        "\n",
        "  offset_dict = {'AST':0, 'MDT':-2, 'ADT':1, 'PDT':-3, 'EDT':0, 'MST':-3, 'CDT':-1, 'HST':-6}\n",
        "\n",
        "  # will not consider flights that take off and land while daylight savings turned on/off since it has negligible effect\n",
        "  # just considering whether daylight savings enforced when plane taking off, then assuming daylight savings also enforced when it landed\n",
        "  if (month >= 3 and day >= 10 and dep_time >= 200) and (month <= 11 and day <=3 and dep_time <= 200):\n",
        "    offset_dict[timezone_dict[dest]] # during daylight savings, so use offset_dict value offset directly\n",
        "  else:\n",
        "    if (timezone_dict[dest][1] == 'S'): # not during daylight savings, and doesn't observe daylight savings\n",
        "      return offset_dict[timezone_dict[dest]] + 1\n",
        "    else: # not during daylight savings, but does observe daylight savings\n",
        "      return offset_dict[timezone_dict[dest]]"
      ]
    },
    {
      "cell_type": "code",
      "execution_count": null,
      "id": "LBXY6yYz9nU2",
      "metadata": {
        "id": "LBXY6yYz9nU2"
      },
      "outputs": [],
      "source": [
        "# oe-hot encoding of carriers, origin airports, and destination airports (written by Aahil)\n",
        "\n",
        "carriers = df['carrier'].unique().tolist()\n",
        "origins = df['origin'].unique().tolist()\n",
        "dests = df['dest'].unique().tolist()\n",
        "def get_carrier(carriername):\n",
        "    # return np.array(pd.get_dummies(df[['carrier']])['carrier_'+carriername].astype(int)).tolist()\n",
        "    output = [0]*len(carriers)\n",
        "    output[carriers.index(carriername)] = 1\n",
        "    return output\n",
        "\n",
        "def get_origin(originname):\n",
        "    # return np.array(pd.get_dummies(df[['origin']])['origin_'+originname].astype(int)).tolist()\n",
        "    output = [0]*len(origins)\n",
        "    output[origins.index(originname)] = 1\n",
        "    return output\n",
        "\n",
        "def get_dest(destname):\n",
        "    # return np.array(pd.get_dummies(df[['dest']])['dest_'+destname].astype(int)).tolist()\n",
        "    output = [0]*len(dests)\n",
        "    output[dests.index(destname)] = 1\n",
        "    return output\n"
      ]
    },
    {
      "cell_type": "code",
      "execution_count": null,
      "id": "iWsirlq1-nog",
      "metadata": {
        "colab": {
          "base_uri": "https://localhost:8080/"
        },
        "id": "iWsirlq1-nog",
        "outputId": "a87e8a97-1065-4c6c-cb11-dffd0dd4c604"
      },
      "outputs": [
        {
          "data": {
            "text/plain": [
              "[0, 1, 0, 0, 0, 0, 0, 0, 0, 0, 0, 0, 0, 0, 0, 0]"
            ]
          },
          "execution_count": 37,
          "metadata": {},
          "output_type": "execute_result"
        }
      ],
      "source": [
        "get_carrier('AA')"
      ]
    },
    {
      "cell_type": "code",
      "execution_count": null,
      "id": "w95Oie_k-7Ai",
      "metadata": {
        "colab": {
          "base_uri": "https://localhost:8080/",
          "height": 206
        },
        "id": "w95Oie_k-7Ai",
        "outputId": "c8cc573a-92d4-48e8-fbc8-2b7911957dab"
      },
      "outputs": [
        {
          "data": {
            "text/html": [
              "<div>\n",
              "<style scoped>\n",
              "    .dataframe tbody tr th:only-of-type {\n",
              "        vertical-align: middle;\n",
              "    }\n",
              "\n",
              "    .dataframe tbody tr th {\n",
              "        vertical-align: top;\n",
              "    }\n",
              "\n",
              "    .dataframe thead th {\n",
              "        text-align: right;\n",
              "    }\n",
              "</style>\n",
              "<table border=\"1\" class=\"dataframe\">\n",
              "  <thead>\n",
              "    <tr style=\"text-align: right;\">\n",
              "      <th></th>\n",
              "      <th>id</th>\n",
              "      <th>month</th>\n",
              "      <th>day</th>\n",
              "      <th>dep_time</th>\n",
              "      <th>sched_dep_time</th>\n",
              "      <th>dep_delay</th>\n",
              "      <th>arr_time</th>\n",
              "      <th>sched_arr_time</th>\n",
              "      <th>arr_delay</th>\n",
              "      <th>carrier</th>\n",
              "      <th>flight</th>\n",
              "      <th>tailnum</th>\n",
              "      <th>origin</th>\n",
              "      <th>dest</th>\n",
              "      <th>air_time</th>\n",
              "      <th>distance</th>\n",
              "    </tr>\n",
              "  </thead>\n",
              "  <tbody>\n",
              "    <tr>\n",
              "      <th>0</th>\n",
              "      <td>0</td>\n",
              "      <td>1</td>\n",
              "      <td>1</td>\n",
              "      <td>517</td>\n",
              "      <td>515</td>\n",
              "      <td>2</td>\n",
              "      <td>830</td>\n",
              "      <td>819</td>\n",
              "      <td>11</td>\n",
              "      <td>UA</td>\n",
              "      <td>1545</td>\n",
              "      <td>N14228</td>\n",
              "      <td>EWR</td>\n",
              "      <td>IAH</td>\n",
              "      <td>227</td>\n",
              "      <td>1400</td>\n",
              "    </tr>\n",
              "    <tr>\n",
              "      <th>1</th>\n",
              "      <td>1</td>\n",
              "      <td>1</td>\n",
              "      <td>1</td>\n",
              "      <td>533</td>\n",
              "      <td>529</td>\n",
              "      <td>4</td>\n",
              "      <td>850</td>\n",
              "      <td>830</td>\n",
              "      <td>20</td>\n",
              "      <td>UA</td>\n",
              "      <td>1714</td>\n",
              "      <td>N24211</td>\n",
              "      <td>LGA</td>\n",
              "      <td>IAH</td>\n",
              "      <td>227</td>\n",
              "      <td>1416</td>\n",
              "    </tr>\n",
              "    <tr>\n",
              "      <th>2</th>\n",
              "      <td>2</td>\n",
              "      <td>1</td>\n",
              "      <td>1</td>\n",
              "      <td>542</td>\n",
              "      <td>540</td>\n",
              "      <td>2</td>\n",
              "      <td>923</td>\n",
              "      <td>850</td>\n",
              "      <td>33</td>\n",
              "      <td>AA</td>\n",
              "      <td>1141</td>\n",
              "      <td>N619AA</td>\n",
              "      <td>JFK</td>\n",
              "      <td>MIA</td>\n",
              "      <td>160</td>\n",
              "      <td>1089</td>\n",
              "    </tr>\n",
              "    <tr>\n",
              "      <th>3</th>\n",
              "      <td>3</td>\n",
              "      <td>1</td>\n",
              "      <td>1</td>\n",
              "      <td>544</td>\n",
              "      <td>545</td>\n",
              "      <td>-1</td>\n",
              "      <td>1004</td>\n",
              "      <td>1022</td>\n",
              "      <td>-18</td>\n",
              "      <td>B6</td>\n",
              "      <td>725</td>\n",
              "      <td>N804JB</td>\n",
              "      <td>JFK</td>\n",
              "      <td>BQN</td>\n",
              "      <td>183</td>\n",
              "      <td>1576</td>\n",
              "    </tr>\n",
              "    <tr>\n",
              "      <th>4</th>\n",
              "      <td>4</td>\n",
              "      <td>1</td>\n",
              "      <td>1</td>\n",
              "      <td>554</td>\n",
              "      <td>600</td>\n",
              "      <td>-6</td>\n",
              "      <td>812</td>\n",
              "      <td>837</td>\n",
              "      <td>-25</td>\n",
              "      <td>DL</td>\n",
              "      <td>461</td>\n",
              "      <td>N668DN</td>\n",
              "      <td>LGA</td>\n",
              "      <td>ATL</td>\n",
              "      <td>116</td>\n",
              "      <td>762</td>\n",
              "    </tr>\n",
              "  </tbody>\n",
              "</table>\n",
              "</div>"
            ],
            "text/plain": [
              "   id  month  day  dep_time  sched_dep_time  dep_delay  arr_time  \\\n",
              "0   0      1    1       517             515          2       830   \n",
              "1   1      1    1       533             529          4       850   \n",
              "2   2      1    1       542             540          2       923   \n",
              "3   3      1    1       544             545         -1      1004   \n",
              "4   4      1    1       554             600         -6       812   \n",
              "\n",
              "   sched_arr_time  arr_delay carrier  flight tailnum origin dest  air_time  \\\n",
              "0             819         11      UA    1545  N14228    EWR  IAH       227   \n",
              "1             830         20      UA    1714  N24211    LGA  IAH       227   \n",
              "2             850         33      AA    1141  N619AA    JFK  MIA       160   \n",
              "3            1022        -18      B6     725  N804JB    JFK  BQN       183   \n",
              "4             837        -25      DL     461  N668DN    LGA  ATL       116   \n",
              "\n",
              "   distance  \n",
              "0      1400  \n",
              "1      1416  \n",
              "2      1089  \n",
              "3      1576  \n",
              "4       762  "
            ]
          },
          "execution_count": 38,
          "metadata": {},
          "output_type": "execute_result"
        }
      ],
      "source": [
        "df.head()"
      ]
    },
    {
      "cell_type": "code",
      "execution_count": null,
      "id": "104j2OtdAaDJ",
      "metadata": {
        "colab": {
          "base_uri": "https://localhost:8080/"
        },
        "id": "104j2OtdAaDJ",
        "outputId": "f8d0aabe-d9f2-4ba9-a613-def258d1e42f"
      },
      "outputs": [
        {
          "data": {
            "text/plain": [
              "1"
            ]
          },
          "execution_count": 39,
          "metadata": {},
          "output_type": "execute_result"
        }
      ],
      "source": [
        " df.iloc[0]['day']"
      ]
    },
    {
      "cell_type": "code",
      "execution_count": null,
      "id": "f5_wh7o7OHQc",
      "metadata": {
        "id": "f5_wh7o7OHQc"
      },
      "outputs": [],
      "source": [
        "# function that returns whether a flight takes off and lands on different dates (written by Sydney)\n",
        "\n",
        "def get_different_day(dest, month, day, dep_time, arr_time):\n",
        "  new_arr_time = offset(dest, month, day, dep_time) + arr_time\n",
        "  if new_arr_time < 0:\n",
        "    new_arr_time += 2400\n",
        "  if new_arr_time < dep_time:\n",
        "    return True\n",
        "  else:\n",
        "    return False"
      ]
    },
    {
      "cell_type": "code",
      "execution_count": null,
      "id": "IUkrez97DkgL",
      "metadata": {
        "id": "IUkrez97DkgL"
      },
      "outputs": [],
      "source": [
        "def feature(index):\n",
        "  row = df.iloc[index]\n",
        "  output = [1]\n",
        "  output += [row['distance']/5000]\n",
        "  output += [convert_to_mins(row['month'], row['day'], row['sched_dep_time'])/550000]\n",
        "  arrtime = convert_to_mins(row['month'], row['day'], row['arr_time'])\n",
        "  if get_different_day(row['dest'], row['month'], row['day'], row['sched_dep_time'], row['sched_arr_time']):\n",
        "    arrtime += 60*24\n",
        "  output += [arrtime/550000]\n",
        "  output += [convert_to_mins(1, 1, row['dep_delay'])/144]\n",
        "  output += get_carrier(row['carrier'])\n",
        "  output += get_origin(row['origin'])\n",
        "  output += get_dest(row['dest'])\n",
        "  output += [offset(row.dest, row.month, row.day, row.dep_time)]\n",
        "  return np.array(output)\n"
      ]
    },
    {
      "cell_type": "code",
      "execution_count": null,
      "id": "NRzGeWmwY8eO",
      "metadata": {
        "colab": {
          "base_uri": "https://localhost:8080/"
        },
        "id": "NRzGeWmwY8eO",
        "outputId": "4ab59cfd-3d16-4502-9da2-0f513c9c23ff"
      },
      "outputs": [
        {
          "data": {
            "text/plain": [
              "129"
            ]
          },
          "execution_count": 42,
          "metadata": {},
          "output_type": "execute_result"
        }
      ],
      "source": [
        "len(feature(0))"
      ]
    },
    {
      "cell_type": "code",
      "execution_count": null,
      "id": "3vab_xTtaPwv",
      "metadata": {
        "id": "3vab_xTtaPwv"
      },
      "outputs": [],
      "source": [
        "dataset = np.array([feature(i).reshape(1,129) for i in range(df.shape[0])])"
      ]
    },
    {
      "cell_type": "code",
      "execution_count": null,
      "id": "UCFR3gBkdmDf",
      "metadata": {
        "colab": {
          "base_uri": "https://localhost:8080/"
        },
        "id": "UCFR3gBkdmDf",
        "outputId": "99adde92-1c79-43ba-97f1-3e13b8607f23"
      },
      "outputs": [
        {
          "data": {
            "text/plain": [
              "327346"
            ]
          },
          "execution_count": 44,
          "metadata": {},
          "output_type": "execute_result"
        }
      ],
      "source": [
        "len(dataset)"
      ]
    },
    {
      "cell_type": "code",
      "execution_count": null,
      "id": "4gclmhnaoUOP",
      "metadata": {
        "colab": {
          "base_uri": "https://localhost:8080/"
        },
        "id": "4gclmhnaoUOP",
        "outputId": "b716a147-5db3-4d5d-feb9-144fd4750119"
      },
      "outputs": [
        {
          "data": {
            "text/plain": [
              "1"
            ]
          },
          "execution_count": 45,
          "metadata": {},
          "output_type": "execute_result"
        }
      ],
      "source": [
        "len(dataset[0])"
      ]
    },
    {
      "cell_type": "code",
      "execution_count": null,
      "id": "l1htf3XpiV1D",
      "metadata": {
        "id": "l1htf3XpiV1D",
        "outputId": "623d80c5-51da-42ec-96c7-515d3f64c29d"
      },
      "outputs": [
        {
          "name": "stdout",
          "output_type": "stream",
          "text": [
            "Defaulting to user installation because normal site-packages is not writeable\n",
            "Requirement already satisfied: scikit-learn in /home/lshao3/.local/lib/python3.11/site-packages (1.5.1)\n",
            "Requirement already satisfied: numpy>=1.19.5 in /usr/local/lib/python3.11/dist-packages (from scikit-learn) (1.26.4)\n",
            "Requirement already satisfied: scipy>=1.6.0 in /home/lshao3/.local/lib/python3.11/site-packages (from scikit-learn) (1.14.0)\n",
            "Requirement already satisfied: joblib>=1.2.0 in /home/lshao3/.local/lib/python3.11/site-packages (from scikit-learn) (1.4.2)\n",
            "Requirement already satisfied: threadpoolctl>=3.1.0 in /home/lshao3/.local/lib/python3.11/site-packages (from scikit-learn) (3.5.0)\n",
            "\n",
            "\u001b[1m[\u001b[0m\u001b[34;49mnotice\u001b[0m\u001b[1;39;49m]\u001b[0m\u001b[39;49m A new release of pip is available: \u001b[0m\u001b[31;49m24.0\u001b[0m\u001b[39;49m -> \u001b[0m\u001b[32;49m24.1.2\u001b[0m\n",
            "\u001b[1m[\u001b[0m\u001b[34;49mnotice\u001b[0m\u001b[1;39;49m]\u001b[0m\u001b[39;49m To update, run: \u001b[0m\u001b[32;49mpython3 -m pip install --upgrade pip\u001b[0m\n"
          ]
        }
      ],
      "source": [
        "!pip install scikit-learn\n",
        "\n",
        "from sklearn.model_selection import train_test_split"
      ]
    },
    {
      "cell_type": "code",
      "execution_count": null,
      "id": "9Ydl9OrqhzWR",
      "metadata": {
        "id": "9Ydl9OrqhzWR"
      },
      "outputs": [],
      "source": [
        "X_train, X_test, y_train, y_test = train_test_split(dataset, df.arr_delay, test_size=0.2, random_state=42)"
      ]
    },
    {
      "cell_type": "markdown",
      "id": "hb02bRqySeti",
      "metadata": {
        "id": "hb02bRqySeti"
      },
      "source": [
        "# Tensorflow"
      ]
    },
    {
      "cell_type": "code",
      "execution_count": null,
      "id": "M0kPtbQZjOxk",
      "metadata": {
        "id": "M0kPtbQZjOxk",
        "outputId": "9de1cc8a-3a9a-45af-b7a6-66340badf821"
      },
      "outputs": [
        {
          "name": "stderr",
          "output_type": "stream",
          "text": [
            "2024-07-26 14:04:59.114573: I external/local_xla/xla/tsl/cuda/cudart_stub.cc:32] Could not find cuda drivers on your machine, GPU will not be used.\n",
            "2024-07-26 14:04:59.117531: I external/local_xla/xla/tsl/cuda/cudart_stub.cc:32] Could not find cuda drivers on your machine, GPU will not be used.\n",
            "2024-07-26 14:04:59.127136: E external/local_xla/xla/stream_executor/cuda/cuda_fft.cc:485] Unable to register cuFFT factory: Attempting to register factory for plugin cuFFT when one has already been registered\n",
            "2024-07-26 14:04:59.140896: E external/local_xla/xla/stream_executor/cuda/cuda_dnn.cc:8454] Unable to register cuDNN factory: Attempting to register factory for plugin cuDNN when one has already been registered\n",
            "2024-07-26 14:04:59.144979: E external/local_xla/xla/stream_executor/cuda/cuda_blas.cc:1452] Unable to register cuBLAS factory: Attempting to register factory for plugin cuBLAS when one has already been registered\n",
            "2024-07-26 14:04:59.155137: I tensorflow/core/platform/cpu_feature_guard.cc:210] This TensorFlow binary is optimized to use available CPU instructions in performance-critical operations.\n",
            "To enable the following instructions: AVX2 FMA, in other operations, rebuild TensorFlow with the appropriate compiler flags.\n",
            "2024-07-26 14:05:00.079686: W tensorflow/compiler/tf2tensorrt/utils/py_utils.cc:38] TF-TRT Warning: Could not find TensorRT\n"
          ]
        }
      ],
      "source": [
        "import tensorflow as tf\n",
        "from tensorflow.keras.models import Sequential\n",
        "from tensorflow.keras.layers import Dense, Dropout, LSTM, BatchNormalization, GRU, Bidirectional\n",
        "from sklearn.metrics import mean_squared_error"
      ]
    },
    {
      "cell_type": "code",
      "execution_count": null,
      "id": "2hrtHMskif3v",
      "metadata": {
        "id": "2hrtHMskif3v",
        "outputId": "00c0b7f3-ae8a-45a6-b7d5-e72191d66964"
      },
      "outputs": [
        {
          "name": "stderr",
          "output_type": "stream",
          "text": [
            "/home/lshao3/.local/lib/python3.11/site-packages/keras/src/layers/rnn/rnn.py:204: UserWarning: Do not pass an `input_shape`/`input_dim` argument to a layer. When using Sequential models, prefer using an `Input(shape)` object as the first layer in the model instead.\n",
            "  super().__init__(**kwargs)\n"
          ]
        }
      ],
      "source": [
        "# Recurrent Neural Network model (written by Genie)\n",
        "\n",
        "model = Sequential()\n",
        "\n",
        "# IF you are running with a GPU, try out the CuDNNLSTM layer type instead (don't pass an activation, tanh is required)\n",
        "model.add(LSTM(128, input_shape=[1,129], activation='relu', return_sequences=True))\n",
        "model.add(Dropout(0.2))\n",
        "model.add(BatchNormalization())\n",
        "\n",
        "model.add(LSTM(128, activation='relu'))\n",
        "model.add(Dropout(0.1))\n",
        "model.add(BatchNormalization())\n",
        "\n",
        "model.add(Dense(32, activation='relu'))\n",
        "model.add(Dropout(0.2))\n",
        "\n",
        "model.add(Dense(1, activation='linear'))\n",
        "\n",
        "opt = tf.keras.optimizers.Adam(learning_rate=0.001) #decay=1e-6\n",
        "\n",
        "# Compile model\n",
        "model.compile(\n",
        "    loss='mse',\n",
        "    optimizer=opt,\n",
        "    metrics=['mse'],\n",
        ")"
      ]
    },
    {
      "cell_type": "code",
      "execution_count": null,
      "id": "PIHG3chmvFTd",
      "metadata": {
        "id": "PIHG3chmvFTd"
      },
      "outputs": [],
      "source": [
        "X_train = X_train.reshape(-1, 1, 129)\n",
        "X_test  = X_test.reshape(-1, 1, 129)\n",
        "# y_train = y_train.reshape(-1, 1, 1)\n",
        "# y_test = y_test.reshape(-1, 1, 1)"
      ]
    },
    {
      "cell_type": "code",
      "execution_count": null,
      "id": "EnQBSvsVM-a4",
      "metadata": {
        "colab": {
          "base_uri": "https://localhost:8080/"
        },
        "id": "EnQBSvsVM-a4",
        "outputId": "ec302c5c-a5e3-4320-e9fd-5fb292abcc1a"
      },
      "outputs": [
        {
          "data": {
            "text/plain": [
              "(array([[[ 1.        ,  0.1438    ,  0.05388909,  0.05404727,\n",
              "           0.22916667,  1.        ,  0.        ,  0.        ,\n",
              "           0.        ,  0.        ,  0.        ,  0.        ,\n",
              "           0.        ,  0.        ,  0.        ,  0.        ,\n",
              "           0.        ,  0.        ,  0.        ,  0.        ,\n",
              "           0.        ,  1.        ,  0.        ,  0.        ,\n",
              "           0.        ,  0.        ,  0.        ,  0.        ,\n",
              "           1.        ,  0.        ,  0.        ,  0.        ,\n",
              "           0.        ,  0.        ,  0.        ,  0.        ,\n",
              "           0.        ,  0.        ,  0.        ,  0.        ,\n",
              "           0.        ,  0.        ,  0.        ,  0.        ,\n",
              "           0.        ,  0.        ,  0.        ,  0.        ,\n",
              "           0.        ,  0.        ,  0.        ,  0.        ,\n",
              "           0.        ,  0.        ,  0.        ,  0.        ,\n",
              "           0.        ,  0.        ,  0.        ,  0.        ,\n",
              "           0.        ,  0.        ,  0.        ,  0.        ,\n",
              "           0.        ,  0.        ,  0.        ,  0.        ,\n",
              "           0.        ,  0.        ,  0.        ,  0.        ,\n",
              "           0.        ,  0.        ,  0.        ,  0.        ,\n",
              "           0.        ,  0.        ,  0.        ,  0.        ,\n",
              "           0.        ,  0.        ,  0.        ,  0.        ,\n",
              "           0.        ,  0.        ,  0.        ,  0.        ,\n",
              "           0.        ,  0.        ,  0.        ,  0.        ,\n",
              "           0.        ,  0.        ,  0.        ,  0.        ,\n",
              "           0.        ,  0.        ,  0.        ,  0.        ,\n",
              "           0.        ,  0.        ,  0.        ,  0.        ,\n",
              "           0.        ,  0.        ,  0.        ,  0.        ,\n",
              "           0.        ,  0.        ,  0.        ,  0.        ,\n",
              "           0.        ,  0.        ,  0.        ,  0.        ,\n",
              "           0.        ,  0.        ,  0.        ,  0.        ,\n",
              "           0.        ,  0.        ,  0.        ,  0.        ,\n",
              "           0.        ,  0.        ,  0.        ,  0.        ,\n",
              "          -1.        ]],\n",
              " \n",
              "        [[ 1.        ,  0.0426    ,  0.6479    ,  0.64803091,\n",
              "           0.25      ,  0.        ,  0.        ,  0.        ,\n",
              "           0.        ,  0.        ,  1.        ,  0.        ,\n",
              "           0.        ,  0.        ,  0.        ,  0.        ,\n",
              "           0.        ,  0.        ,  0.        ,  0.        ,\n",
              "           0.        ,  0.        ,  0.        ,  1.        ,\n",
              "           0.        ,  0.        ,  0.        ,  0.        ,\n",
              "           0.        ,  0.        ,  0.        ,  0.        ,\n",
              "           0.        ,  0.        ,  0.        ,  0.        ,\n",
              "           0.        ,  0.        ,  0.        ,  0.        ,\n",
              "           0.        ,  0.        ,  0.        ,  0.        ,\n",
              "           0.        ,  0.        ,  0.        ,  0.        ,\n",
              "           0.        ,  0.        ,  0.        ,  0.        ,\n",
              "           0.        ,  0.        ,  0.        ,  0.        ,\n",
              "           0.        ,  0.        ,  0.        ,  0.        ,\n",
              "           0.        ,  0.        ,  0.        ,  0.        ,\n",
              "           1.        ,  0.        ,  0.        ,  0.        ,\n",
              "           0.        ,  0.        ,  0.        ,  0.        ,\n",
              "           0.        ,  0.        ,  0.        ,  0.        ,\n",
              "           0.        ,  0.        ,  0.        ,  0.        ,\n",
              "           0.        ,  0.        ,  0.        ,  0.        ,\n",
              "           0.        ,  0.        ,  0.        ,  0.        ,\n",
              "           0.        ,  0.        ,  0.        ,  0.        ,\n",
              "           0.        ,  0.        ,  0.        ,  0.        ,\n",
              "           0.        ,  0.        ,  0.        ,  0.        ,\n",
              "           0.        ,  0.        ,  0.        ,  0.        ,\n",
              "           0.        ,  0.        ,  0.        ,  0.        ,\n",
              "           0.        ,  0.        ,  0.        ,  0.        ,\n",
              "           0.        ,  0.        ,  0.        ,  0.        ,\n",
              "           0.        ,  0.        ,  0.        ,  0.        ,\n",
              "           0.        ,  0.        ,  0.        ,  0.        ,\n",
              "           0.        ,  0.        ,  0.        ,  0.        ,\n",
              "           0.        ]]]),\n",
              " 17752    -8\n",
              " 313100    2\n",
              " Name: arr_delay, dtype: int64,\n",
              " array([[[ 1.        ,  0.495     ,  0.85729091,  0.85759455,\n",
              "           0.24305556,  0.        ,  1.        ,  0.        ,\n",
              "           0.        ,  0.        ,  0.        ,  0.        ,\n",
              "           0.        ,  0.        ,  0.        ,  0.        ,\n",
              "           0.        ,  0.        ,  0.        ,  0.        ,\n",
              "           0.        ,  0.        ,  0.        ,  1.        ,\n",
              "           0.        ,  0.        ,  0.        ,  0.        ,\n",
              "           0.        ,  0.        ,  0.        ,  0.        ,\n",
              "           0.        ,  0.        ,  1.        ,  0.        ,\n",
              "           0.        ,  0.        ,  0.        ,  0.        ,\n",
              "           0.        ,  0.        ,  0.        ,  0.        ,\n",
              "           0.        ,  0.        ,  0.        ,  0.        ,\n",
              "           0.        ,  0.        ,  0.        ,  0.        ,\n",
              "           0.        ,  0.        ,  0.        ,  0.        ,\n",
              "           0.        ,  0.        ,  0.        ,  0.        ,\n",
              "           0.        ,  0.        ,  0.        ,  0.        ,\n",
              "           0.        ,  0.        ,  0.        ,  0.        ,\n",
              "           0.        ,  0.        ,  0.        ,  0.        ,\n",
              "           0.        ,  0.        ,  0.        ,  0.        ,\n",
              "           0.        ,  0.        ,  0.        ,  0.        ,\n",
              "           0.        ,  0.        ,  0.        ,  0.        ,\n",
              "           0.        ,  0.        ,  0.        ,  0.        ,\n",
              "           0.        ,  0.        ,  0.        ,  0.        ,\n",
              "           0.        ,  0.        ,  0.        ,  0.        ,\n",
              "           0.        ,  0.        ,  0.        ,  0.        ,\n",
              "           0.        ,  0.        ,  0.        ,  0.        ,\n",
              "           0.        ,  0.        ,  0.        ,  0.        ,\n",
              "           0.        ,  0.        ,  0.        ,  0.        ,\n",
              "           0.        ,  0.        ,  0.        ,  0.        ,\n",
              "           0.        ,  0.        ,  0.        ,  0.        ,\n",
              "           0.        ,  0.        ,  0.        ,  0.        ,\n",
              "           0.        ,  0.        ,  0.        ,  0.        ,\n",
              "          -3.        ]],\n",
              " \n",
              "        [[ 1.        ,  0.0338    ,  0.09834364,  0.09845636,\n",
              "           0.22222222,  0.        ,  0.        ,  0.        ,\n",
              "           0.        ,  1.        ,  0.        ,  0.        ,\n",
              "           0.        ,  0.        ,  0.        ,  0.        ,\n",
              "           0.        ,  0.        ,  0.        ,  0.        ,\n",
              "           0.        ,  1.        ,  0.        ,  0.        ,\n",
              "           0.        ,  0.        ,  0.        ,  0.        ,\n",
              "           0.        ,  0.        ,  0.        ,  0.        ,\n",
              "           0.        ,  0.        ,  0.        ,  0.        ,\n",
              "           0.        ,  0.        ,  0.        ,  0.        ,\n",
              "           0.        ,  0.        ,  0.        ,  0.        ,\n",
              "           1.        ,  0.        ,  0.        ,  0.        ,\n",
              "           0.        ,  0.        ,  0.        ,  0.        ,\n",
              "           0.        ,  0.        ,  0.        ,  0.        ,\n",
              "           0.        ,  0.        ,  0.        ,  0.        ,\n",
              "           0.        ,  0.        ,  0.        ,  0.        ,\n",
              "           0.        ,  0.        ,  0.        ,  0.        ,\n",
              "           0.        ,  0.        ,  0.        ,  0.        ,\n",
              "           0.        ,  0.        ,  0.        ,  0.        ,\n",
              "           0.        ,  0.        ,  0.        ,  0.        ,\n",
              "           0.        ,  0.        ,  0.        ,  0.        ,\n",
              "           0.        ,  0.        ,  0.        ,  0.        ,\n",
              "           0.        ,  0.        ,  0.        ,  0.        ,\n",
              "           0.        ,  0.        ,  0.        ,  0.        ,\n",
              "           0.        ,  0.        ,  0.        ,  0.        ,\n",
              "           0.        ,  0.        ,  0.        ,  0.        ,\n",
              "           0.        ,  0.        ,  0.        ,  0.        ,\n",
              "           0.        ,  0.        ,  0.        ,  0.        ,\n",
              "           0.        ,  0.        ,  0.        ,  0.        ,\n",
              "           0.        ,  0.        ,  0.        ,  0.        ,\n",
              "           0.        ,  0.        ,  0.        ,  0.        ,\n",
              "           0.        ,  0.        ,  0.        ,  0.        ,\n",
              "           0.        ]]]),\n",
              " 77408    -23\n",
              " 116884     0\n",
              " Name: arr_delay, dtype: int64)"
            ]
          },
          "execution_count": 55,
          "metadata": {},
          "output_type": "execute_result"
        }
      ],
      "source": [
        "X_train[:2], y_train[:2], X_test[:2], y_test[:2]"
      ]
    },
    {
      "cell_type": "code",
      "execution_count": null,
      "id": "GueUSEYCogf7",
      "metadata": {
        "colab": {
          "base_uri": "https://localhost:8080/"
        },
        "id": "GueUSEYCogf7",
        "outputId": "1ea6a139-fdbe-4659-c905-acab48c26b17"
      },
      "outputs": [
        {
          "name": "stdout",
          "output_type": "stream",
          "text": [
            "Epoch 1/3\n",
            "\u001b[1m8184/8184\u001b[0m \u001b[32m━━━━━━━━━━━━━━━━━━━━\u001b[0m\u001b[37m\u001b[0m \u001b[1m23s\u001b[0m 3ms/step - loss: 728.9972 - mse: 728.9972 - val_loss: 7751.9331 - val_mse: 7751.9331\n",
            "Epoch 2/3\n",
            "\u001b[1m8184/8184\u001b[0m \u001b[32m━━━━━━━━━━━━━━━━━━━━\u001b[0m\u001b[37m\u001b[0m \u001b[1m20s\u001b[0m 2ms/step - loss: 518.6939 - mse: 518.6939 - val_loss: 19022.4746 - val_mse: 19022.4746\n",
            "Epoch 3/3\n",
            "\u001b[1m8184/8184\u001b[0m \u001b[32m━━━━━━━━━━━━━━━━━━━━\u001b[0m\u001b[37m\u001b[0m \u001b[1m20s\u001b[0m 2ms/step - loss: 499.3900 - mse: 499.3900 - val_loss: 3222.7249 - val_mse: 3222.7249\n"
          ]
        },
        {
          "data": {
            "text/plain": [
              "<keras.src.callbacks.history.History at 0x15551655afd0>"
            ]
          },
          "execution_count": 56,
          "metadata": {},
          "output_type": "execute_result"
        }
      ],
      "source": [
        "  model.fit(X_train,\n",
        "          y_train,\n",
        "          epochs=3,\n",
        "          validation_data=(X_test, y_test))"
      ]
    },
    {
      "cell_type": "code",
      "execution_count": null,
      "id": "BU1-6w3MRvKC",
      "metadata": {
        "colab": {
          "base_uri": "https://localhost:8080/"
        },
        "id": "BU1-6w3MRvKC",
        "outputId": "74fe9def-36d2-41ef-ede0-ac9365736307"
      },
      "outputs": [
        {
          "data": {
            "text/plain": [
              "6.8759641967954295"
            ]
          },
          "execution_count": 57,
          "metadata": {},
          "output_type": "execute_result"
        }
      ],
      "source": [
        "np.mean(y_train)"
      ]
    },
    {
      "cell_type": "code",
      "execution_count": null,
      "id": "8YImolX0R66X",
      "metadata": {
        "colab": {
          "base_uri": "https://localhost:8080/"
        },
        "id": "8YImolX0R66X",
        "outputId": "28498652-830b-43f3-c294-58d0d3144ed6"
      },
      "outputs": [
        {
          "data": {
            "text/plain": [
              "1967.0509417086892"
            ]
          },
          "execution_count": 58,
          "metadata": {},
          "output_type": "execute_result"
        }
      ],
      "source": [
        "mean_squared_error(y_test, [np.mean(y_train)]*len(y_test))"
      ]
    },
    {
      "cell_type": "code",
      "execution_count": null,
      "id": "JQHUsOQpZ39o",
      "metadata": {
        "colab": {
          "base_uri": "https://localhost:8080/"
        },
        "id": "JQHUsOQpZ39o",
        "outputId": "7222077d-e55a-43ff-fe71-ac8dd83d7b6d"
      },
      "outputs": [
        {
          "name": "stdout",
          "output_type": "stream",
          "text": [
            "Defaulting to user installation because normal site-packages is not writeable\n",
            "Requirement already satisfied: keras_tuner in /home/lshao3/.local/lib/python3.11/site-packages (1.4.7)\n",
            "Requirement already satisfied: keras in /home/lshao3/.local/lib/python3.11/site-packages (from keras_tuner) (3.4.1)\n",
            "Requirement already satisfied: packaging in /usr/local/lib/python3.11/dist-packages (from keras_tuner) (23.2)\n",
            "Requirement already satisfied: requests in /usr/local/lib/python3.11/dist-packages (from keras_tuner) (2.31.0)\n",
            "Requirement already satisfied: kt-legacy in /home/lshao3/.local/lib/python3.11/site-packages (from keras_tuner) (1.0.5)\n",
            "Requirement already satisfied: absl-py in /usr/local/lib/python3.11/dist-packages (from keras->keras_tuner) (2.1.0)\n",
            "Requirement already satisfied: numpy in /usr/local/lib/python3.11/dist-packages (from keras->keras_tuner) (1.26.4)\n",
            "Requirement already satisfied: rich in /usr/local/lib/python3.11/dist-packages (from keras->keras_tuner) (13.7.1)\n",
            "Requirement already satisfied: namex in /usr/local/lib/python3.11/dist-packages (from keras->keras_tuner) (0.0.7)\n",
            "Requirement already satisfied: h5py in /usr/local/lib/python3.11/dist-packages (from keras->keras_tuner) (3.10.0)\n",
            "Requirement already satisfied: optree in /home/lshao3/.local/lib/python3.11/site-packages (from keras->keras_tuner) (0.12.1)\n",
            "Requirement already satisfied: ml-dtypes in /usr/local/lib/python3.11/dist-packages (from keras->keras_tuner) (0.3.2)\n",
            "Requirement already satisfied: charset-normalizer<4,>=2 in /usr/local/lib/python3.11/dist-packages (from requests->keras_tuner) (3.3.2)\n",
            "Requirement already satisfied: idna<4,>=2.5 in /usr/local/lib/python3.11/dist-packages (from requests->keras_tuner) (3.6)\n",
            "Requirement already satisfied: urllib3<3,>=1.21.1 in /usr/local/lib/python3.11/dist-packages (from requests->keras_tuner) (2.2.1)\n",
            "Requirement already satisfied: certifi>=2017.4.17 in /usr/local/lib/python3.11/dist-packages (from requests->keras_tuner) (2024.2.2)\n",
            "Requirement already satisfied: typing-extensions>=4.5.0 in /usr/local/lib/python3.11/dist-packages (from optree->keras->keras_tuner) (4.10.0)\n",
            "Requirement already satisfied: markdown-it-py>=2.2.0 in /usr/local/lib/python3.11/dist-packages (from rich->keras->keras_tuner) (3.0.0)\n",
            "Requirement already satisfied: pygments<3.0.0,>=2.13.0 in /usr/local/lib/python3.11/dist-packages (from rich->keras->keras_tuner) (2.17.2)\n",
            "Requirement already satisfied: mdurl~=0.1 in /usr/local/lib/python3.11/dist-packages (from markdown-it-py>=2.2.0->rich->keras->keras_tuner) (0.1.2)\n",
            "\n",
            "\u001b[1m[\u001b[0m\u001b[34;49mnotice\u001b[0m\u001b[1;39;49m]\u001b[0m\u001b[39;49m A new release of pip is available: \u001b[0m\u001b[31;49m24.0\u001b[0m\u001b[39;49m -> \u001b[0m\u001b[32;49m24.1.2\u001b[0m\n",
            "\u001b[1m[\u001b[0m\u001b[34;49mnotice\u001b[0m\u001b[1;39;49m]\u001b[0m\u001b[39;49m To update, run: \u001b[0m\u001b[32;49mpython3 -m pip install --upgrade pip\u001b[0m\n"
          ]
        }
      ],
      "source": [
        "!pip install keras_tuner"
      ]
    },
    {
      "cell_type": "code",
      "execution_count": null,
      "id": "P6g6UXABZdiU",
      "metadata": {
        "id": "P6g6UXABZdiU"
      },
      "outputs": [],
      "source": [
        "import keras_tuner\n",
        "from tensorflow.keras.optimizers import SGD, Adam, RMSprop"
      ]
    },
    {
      "cell_type": "code",
      "execution_count": null,
      "id": "NzV0bNDJXPQf",
      "metadata": {
        "id": "NzV0bNDJXPQf"
      },
      "outputs": [],
      "source": [
        "from keras.models import Sequential\n",
        "from keras.layers import LSTM, GRU, Dense, Dropout, BatchNormalization, Bidirectional\n",
        "from keras.optimizers import Adam, SGD, RMSprop\n",
        "import keras_tuner as kt\n",
        "\n",
        "def buildHPmodel(hp):\n",
        "    layertype = hp.Choice('layer', values=['LSTM', 'GRU'])\n",
        "    bidirectional = hp.Choice('bidirectional', values=[True, False])\n",
        "    batchnorm = hp.Choice('batchnorm', values=[True, False])\n",
        "\n",
        "    model = Sequential()\n",
        "\n",
        "    if layertype == 'LSTM':\n",
        "        if bidirectional:\n",
        "            model.add(Bidirectional(LSTM(units=128, activation=hp.Choice(\"activation\", [\"relu\", \"tanh\", \"sigmoid\"]), input_shape=[1,129], return_sequences=True)))\n",
        "        else:\n",
        "            model.add(LSTM(units=128, activation=hp.Choice(\"activation\", [\"relu\", \"tanh\", \"sigmoid\"]), input_shape=[1,129], return_sequences=True))\n",
        "    else:\n",
        "        if bidirectional:\n",
        "            model.add(Bidirectional(GRU(units=128, activation=hp.Choice(\"activation\", [\"relu\", \"tanh\", \"sigmoid\"]), input_shape=[1,129], return_sequences=True)))\n",
        "        else:\n",
        "            model.add(GRU(units=128, activation=hp.Choice(\"activation\", [\"relu\", \"tanh\", \"sigmoid\"]), input_shape=[1,129], return_sequences=True))\n",
        "\n",
        "    model.add(Dropout(hp.Float(\"dropout\", min_value=0.0001, max_value=1, sampling=\"log\")))\n",
        "\n",
        "    if batchnorm:\n",
        "        model.add(BatchNormalization())\n",
        "\n",
        "    for i in range(hp.Int(\"numLayers\", min_value=1, max_value=3, step=1)):\n",
        "        if layertype == 'LSTM':\n",
        "            if bidirectional:\n",
        "                model.add(Bidirectional(LSTM(units=hp.Int(\"units\", min_value=15, max_value=150, step=1), activation=hp.Choice(\"activation\", [\"relu\", \"tanh\", \"sigmoid\"]), return_sequences=True)))\n",
        "            else:\n",
        "                model.add(LSTM(units=hp.Int(\"units\", min_value=15, max_value=150, step=1), activation=hp.Choice(\"activation\", [\"relu\", \"tanh\", \"sigmoid\"]), return_sequences=True))\n",
        "        else:\n",
        "            if bidirectional:\n",
        "                model.add(Bidirectional(GRU(units=hp.Int(\"units\", min_value=15, max_value=150, step=1), activation=hp.Choice(\"activation\", [\"relu\", \"tanh\", \"sigmoid\"]), return_sequences=True)))\n",
        "            else:\n",
        "                model.add(GRU(units=hp.Int(\"units\", min_value=15, max_value=150, step=1), activation=hp.Choice(\"activation\", [\"relu\", \"tanh\", \"sigmoid\"]), return_sequences=True))\n",
        "\n",
        "        model.add(Dropout(hp.Float(\"dropout\", min_value=0.0001, max_value=1, sampling=\"log\")))\n",
        "\n",
        "        if batchnorm:\n",
        "            model.add(BatchNormalization())\n",
        "\n",
        "    # Final recurrent layer without return_sequences\n",
        "    if layertype == 'LSTM':\n",
        "        if bidirectional:\n",
        "            model.add(Bidirectional(LSTM(units=hp.Int(\"units\", min_value=15, max_value=150, step=1), activation=hp.Choice(\"activation\", [\"relu\", \"tanh\", \"sigmoid\"]))))\n",
        "        else:\n",
        "            model.add(LSTM(units=hp.Int(\"units\", min_value=15, max_value=150, step=1), activation=hp.Choice(\"activation\", [\"relu\", \"tanh\", \"sigmoid\"])))\n",
        "    else:\n",
        "        if bidirectional:\n",
        "            model.add(Bidirectional(GRU(units=hp.Int(\"units\", min_value=15, max_value=150, step=1), activation=hp.Choice(\"activation\", [\"relu\", \"tanh\", \"sigmoid\"]))))\n",
        "        else:\n",
        "            model.add(GRU(units=hp.Int(\"units\", min_value=15, max_value=150, step=1), activation=hp.Choice(\"activation\", [\"relu\", \"tanh\", \"sigmoid\"])))\n",
        "\n",
        "    model.add(Dropout(hp.Float(\"dropout\", min_value=0.0001, max_value=1, sampling=\"log\")))\n",
        "    model.add(Dense(1, activation='linear'))\n",
        "\n",
        "    learning_rate = hp.Float(\"lr\", min_value=1e-4, max_value=1e-2, sampling=\"log\")\n",
        "    opt = hp.Choice('optimizer', values=['sgd', 'adam', 'rmsprop'])\n",
        "    if opt == 'sgd':\n",
        "        optimizer = SGD(learning_rate=learning_rate)\n",
        "    elif opt == 'adam':\n",
        "        optimizer = Adam(learning_rate=learning_rate)\n",
        "    else:\n",
        "        optimizer = RMSprop(learning_rate=learning_rate)\n",
        "\n",
        "    model.compile(optimizer=optimizer, loss='mse', metrics=['mse'])\n",
        "    return model\n"
      ]
    },
    {
      "cell_type": "code",
      "execution_count": null,
      "id": "vkvXSLr2XkKd",
      "metadata": {
        "colab": {
          "base_uri": "https://localhost:8080/"
        },
        "id": "vkvXSLr2XkKd",
        "outputId": "b46ae858-1f9f-4879-8e40-b2413e4e0d37"
      },
      "outputs": [
        {
          "name": "stdout",
          "output_type": "stream",
          "text": [
            "Trial 500 Complete [00h 01m 36s]\n",
            "mse: 461.6475524902344\n",
            "\n",
            "Best mse So Far: 408.4965515136719\n",
            "Total elapsed time: 21h 30m 10s\n",
            "Results summary\n",
            "Results in ./untitled_project\n",
            "Showing 10 best trials\n",
            "Objective(name=\"mse\", direction=\"min\")\n",
            "\n",
            "Trial 334 summary\n",
            "Hyperparameters:\n",
            "layer: GRU\n",
            "bidirectional: 1\n",
            "batchnorm: 0\n",
            "activation: relu\n",
            "dropout: 0.00016219921637706627\n",
            "numLayers: 2\n",
            "units: 40\n",
            "lr: 0.00213954964760784\n",
            "optimizer: adam\n",
            "Score: 408.4965515136719\n",
            "\n",
            "Trial 455 summary\n",
            "Hyperparameters:\n",
            "layer: LSTM\n",
            "bidirectional: 0\n",
            "batchnorm: 0\n",
            "activation: relu\n",
            "dropout: 0.00011942922405315138\n",
            "numLayers: 1\n",
            "units: 46\n",
            "lr: 0.005167420852174575\n",
            "optimizer: adam\n",
            "Score: 409.74017333984375\n",
            "\n",
            "Trial 457 summary\n",
            "Hyperparameters:\n",
            "layer: GRU\n",
            "bidirectional: 1\n",
            "batchnorm: 0\n",
            "activation: relu\n",
            "dropout: 0.0016094632283175482\n",
            "numLayers: 1\n",
            "units: 56\n",
            "lr: 0.0003520758516851775\n",
            "optimizer: adam\n",
            "Score: 409.7816467285156\n",
            "\n",
            "Trial 383 summary\n",
            "Hyperparameters:\n",
            "layer: GRU\n",
            "bidirectional: 1\n",
            "batchnorm: 0\n",
            "activation: relu\n",
            "dropout: 0.0033343449750360783\n",
            "numLayers: 1\n",
            "units: 104\n",
            "lr: 0.004023995389189576\n",
            "optimizer: adam\n",
            "Score: 410.2288513183594\n",
            "\n",
            "Trial 119 summary\n",
            "Hyperparameters:\n",
            "layer: GRU\n",
            "bidirectional: 1\n",
            "batchnorm: 0\n",
            "activation: relu\n",
            "dropout: 0.006479748676738554\n",
            "numLayers: 2\n",
            "units: 96\n",
            "lr: 0.0004766522588100132\n",
            "optimizer: adam\n",
            "Score: 410.83294677734375\n",
            "\n",
            "Trial 416 summary\n",
            "Hyperparameters:\n",
            "layer: GRU\n",
            "bidirectional: 1\n",
            "batchnorm: 0\n",
            "activation: relu\n",
            "dropout: 0.0002453680527455794\n",
            "numLayers: 3\n",
            "units: 105\n",
            "lr: 0.002321291288861788\n",
            "optimizer: adam\n",
            "Score: 411.44171142578125\n",
            "\n",
            "Trial 102 summary\n",
            "Hyperparameters:\n",
            "layer: GRU\n",
            "bidirectional: 1\n",
            "batchnorm: 0\n",
            "activation: relu\n",
            "dropout: 0.014024652350013688\n",
            "numLayers: 2\n",
            "units: 139\n",
            "lr: 0.0005217509209711628\n",
            "optimizer: adam\n",
            "Score: 411.8630065917969\n",
            "\n",
            "Trial 094 summary\n",
            "Hyperparameters:\n",
            "layer: GRU\n",
            "bidirectional: 0\n",
            "batchnorm: 0\n",
            "activation: relu\n",
            "dropout: 0.003988923372414319\n",
            "numLayers: 3\n",
            "units: 127\n",
            "lr: 0.0006358745983798522\n",
            "optimizer: adam\n",
            "Score: 412.1993713378906\n",
            "\n",
            "Trial 146 summary\n",
            "Hyperparameters:\n",
            "layer: LSTM\n",
            "bidirectional: 1\n",
            "batchnorm: 0\n",
            "activation: relu\n",
            "dropout: 0.008787554305795801\n",
            "numLayers: 2\n",
            "units: 114\n",
            "lr: 0.0010470703300439256\n",
            "optimizer: adam\n",
            "Score: 412.3949890136719\n",
            "\n",
            "Trial 283 summary\n",
            "Hyperparameters:\n",
            "layer: LSTM\n",
            "bidirectional: 0\n",
            "batchnorm: 0\n",
            "activation: relu\n",
            "dropout: 0.00027110626071030644\n",
            "numLayers: 3\n",
            "units: 144\n",
            "lr: 0.0010248393585665515\n",
            "optimizer: adam\n",
            "Score: 413.5732116699219\n"
          ]
        },
        {
          "name": "stderr",
          "output_type": "stream",
          "text": [
            "/home/lshao3/.local/lib/python3.11/site-packages/keras/src/saving/saving_lib.py:576: UserWarning: Skipping variable loading for optimizer 'adam', because it has 2 variables whereas the saved optimizer has 54 variables. \n",
            "  saveable.load_own_variables(weights_store.get(inner_path))\n"
          ]
        },
        {
          "data": {
            "text/html": [
              "<pre style=\"white-space:pre;overflow-x:auto;line-height:normal;font-family:Menlo,'DejaVu Sans Mono',consolas,'Courier New',monospace\"><span style=\"font-weight: bold\">Model: \"sequential\"</span>\n",
              "</pre>\n"
            ],
            "text/plain": [
              "\u001b[1mModel: \"sequential\"\u001b[0m\n"
            ]
          },
          "metadata": {},
          "output_type": "display_data"
        },
        {
          "data": {
            "text/html": [
              "<pre style=\"white-space:pre;overflow-x:auto;line-height:normal;font-family:Menlo,'DejaVu Sans Mono',consolas,'Courier New',monospace\">┏━━━━━━━━━━━━━━━━━━━━━━━━━━━━━━━━━┳━━━━━━━━━━━━━━━━━━━━━━━━┳━━━━━━━━━━━━━━━┓\n",
              "┃<span style=\"font-weight: bold\"> Layer (type)                    </span>┃<span style=\"font-weight: bold\"> Output Shape           </span>┃<span style=\"font-weight: bold\">       Param # </span>┃\n",
              "┡━━━━━━━━━━━━━━━━━━━━━━━━━━━━━━━━━╇━━━━━━━━━━━━━━━━━━━━━━━━╇━━━━━━━━━━━━━━━┩\n",
              "│ bidirectional (<span style=\"color: #0087ff; text-decoration-color: #0087ff\">Bidirectional</span>)   │ (<span style=\"color: #00d7ff; text-decoration-color: #00d7ff\">None</span>, <span style=\"color: #00af00; text-decoration-color: #00af00\">1</span>, <span style=\"color: #00af00; text-decoration-color: #00af00\">256</span>)         │       <span style=\"color: #00af00; text-decoration-color: #00af00\">198,912</span> │\n",
              "├─────────────────────────────────┼────────────────────────┼───────────────┤\n",
              "│ dropout (<span style=\"color: #0087ff; text-decoration-color: #0087ff\">Dropout</span>)               │ (<span style=\"color: #00d7ff; text-decoration-color: #00d7ff\">None</span>, <span style=\"color: #00af00; text-decoration-color: #00af00\">1</span>, <span style=\"color: #00af00; text-decoration-color: #00af00\">256</span>)         │             <span style=\"color: #00af00; text-decoration-color: #00af00\">0</span> │\n",
              "├─────────────────────────────────┼────────────────────────┼───────────────┤\n",
              "│ bidirectional_1 (<span style=\"color: #0087ff; text-decoration-color: #0087ff\">Bidirectional</span>) │ (<span style=\"color: #00d7ff; text-decoration-color: #00d7ff\">None</span>, <span style=\"color: #00af00; text-decoration-color: #00af00\">1</span>, <span style=\"color: #00af00; text-decoration-color: #00af00\">80</span>)          │        <span style=\"color: #00af00; text-decoration-color: #00af00\">71,520</span> │\n",
              "├─────────────────────────────────┼────────────────────────┼───────────────┤\n",
              "│ dropout_1 (<span style=\"color: #0087ff; text-decoration-color: #0087ff\">Dropout</span>)             │ (<span style=\"color: #00d7ff; text-decoration-color: #00d7ff\">None</span>, <span style=\"color: #00af00; text-decoration-color: #00af00\">1</span>, <span style=\"color: #00af00; text-decoration-color: #00af00\">80</span>)          │             <span style=\"color: #00af00; text-decoration-color: #00af00\">0</span> │\n",
              "├─────────────────────────────────┼────────────────────────┼───────────────┤\n",
              "│ bidirectional_2 (<span style=\"color: #0087ff; text-decoration-color: #0087ff\">Bidirectional</span>) │ (<span style=\"color: #00d7ff; text-decoration-color: #00d7ff\">None</span>, <span style=\"color: #00af00; text-decoration-color: #00af00\">1</span>, <span style=\"color: #00af00; text-decoration-color: #00af00\">80</span>)          │        <span style=\"color: #00af00; text-decoration-color: #00af00\">29,280</span> │\n",
              "├─────────────────────────────────┼────────────────────────┼───────────────┤\n",
              "│ dropout_2 (<span style=\"color: #0087ff; text-decoration-color: #0087ff\">Dropout</span>)             │ (<span style=\"color: #00d7ff; text-decoration-color: #00d7ff\">None</span>, <span style=\"color: #00af00; text-decoration-color: #00af00\">1</span>, <span style=\"color: #00af00; text-decoration-color: #00af00\">80</span>)          │             <span style=\"color: #00af00; text-decoration-color: #00af00\">0</span> │\n",
              "├─────────────────────────────────┼────────────────────────┼───────────────┤\n",
              "│ bidirectional_3 (<span style=\"color: #0087ff; text-decoration-color: #0087ff\">Bidirectional</span>) │ (<span style=\"color: #00d7ff; text-decoration-color: #00d7ff\">None</span>, <span style=\"color: #00af00; text-decoration-color: #00af00\">80</span>)             │        <span style=\"color: #00af00; text-decoration-color: #00af00\">29,280</span> │\n",
              "├─────────────────────────────────┼────────────────────────┼───────────────┤\n",
              "│ dropout_3 (<span style=\"color: #0087ff; text-decoration-color: #0087ff\">Dropout</span>)             │ (<span style=\"color: #00d7ff; text-decoration-color: #00d7ff\">None</span>, <span style=\"color: #00af00; text-decoration-color: #00af00\">80</span>)             │             <span style=\"color: #00af00; text-decoration-color: #00af00\">0</span> │\n",
              "├─────────────────────────────────┼────────────────────────┼───────────────┤\n",
              "│ dense (<span style=\"color: #0087ff; text-decoration-color: #0087ff\">Dense</span>)                   │ (<span style=\"color: #00d7ff; text-decoration-color: #00d7ff\">None</span>, <span style=\"color: #00af00; text-decoration-color: #00af00\">1</span>)              │            <span style=\"color: #00af00; text-decoration-color: #00af00\">81</span> │\n",
              "└─────────────────────────────────┴────────────────────────┴───────────────┘\n",
              "</pre>\n"
            ],
            "text/plain": [
              "┏━━━━━━━━━━━━━━━━━━━━━━━━━━━━━━━━━┳━━━━━━━━━━━━━━━━━━━━━━━━┳━━━━━━━━━━━━━━━┓\n",
              "┃\u001b[1m \u001b[0m\u001b[1mLayer (type)                   \u001b[0m\u001b[1m \u001b[0m┃\u001b[1m \u001b[0m\u001b[1mOutput Shape          \u001b[0m\u001b[1m \u001b[0m┃\u001b[1m \u001b[0m\u001b[1m      Param #\u001b[0m\u001b[1m \u001b[0m┃\n",
              "┡━━━━━━━━━━━━━━━━━━━━━━━━━━━━━━━━━╇━━━━━━━━━━━━━━━━━━━━━━━━╇━━━━━━━━━━━━━━━┩\n",
              "│ bidirectional (\u001b[38;5;33mBidirectional\u001b[0m)   │ (\u001b[38;5;45mNone\u001b[0m, \u001b[38;5;34m1\u001b[0m, \u001b[38;5;34m256\u001b[0m)         │       \u001b[38;5;34m198,912\u001b[0m │\n",
              "├─────────────────────────────────┼────────────────────────┼───────────────┤\n",
              "│ dropout (\u001b[38;5;33mDropout\u001b[0m)               │ (\u001b[38;5;45mNone\u001b[0m, \u001b[38;5;34m1\u001b[0m, \u001b[38;5;34m256\u001b[0m)         │             \u001b[38;5;34m0\u001b[0m │\n",
              "├─────────────────────────────────┼────────────────────────┼───────────────┤\n",
              "│ bidirectional_1 (\u001b[38;5;33mBidirectional\u001b[0m) │ (\u001b[38;5;45mNone\u001b[0m, \u001b[38;5;34m1\u001b[0m, \u001b[38;5;34m80\u001b[0m)          │        \u001b[38;5;34m71,520\u001b[0m │\n",
              "├─────────────────────────────────┼────────────────────────┼───────────────┤\n",
              "│ dropout_1 (\u001b[38;5;33mDropout\u001b[0m)             │ (\u001b[38;5;45mNone\u001b[0m, \u001b[38;5;34m1\u001b[0m, \u001b[38;5;34m80\u001b[0m)          │             \u001b[38;5;34m0\u001b[0m │\n",
              "├─────────────────────────────────┼────────────────────────┼───────────────┤\n",
              "│ bidirectional_2 (\u001b[38;5;33mBidirectional\u001b[0m) │ (\u001b[38;5;45mNone\u001b[0m, \u001b[38;5;34m1\u001b[0m, \u001b[38;5;34m80\u001b[0m)          │        \u001b[38;5;34m29,280\u001b[0m │\n",
              "├─────────────────────────────────┼────────────────────────┼───────────────┤\n",
              "│ dropout_2 (\u001b[38;5;33mDropout\u001b[0m)             │ (\u001b[38;5;45mNone\u001b[0m, \u001b[38;5;34m1\u001b[0m, \u001b[38;5;34m80\u001b[0m)          │             \u001b[38;5;34m0\u001b[0m │\n",
              "├─────────────────────────────────┼────────────────────────┼───────────────┤\n",
              "│ bidirectional_3 (\u001b[38;5;33mBidirectional\u001b[0m) │ (\u001b[38;5;45mNone\u001b[0m, \u001b[38;5;34m80\u001b[0m)             │        \u001b[38;5;34m29,280\u001b[0m │\n",
              "├─────────────────────────────────┼────────────────────────┼───────────────┤\n",
              "│ dropout_3 (\u001b[38;5;33mDropout\u001b[0m)             │ (\u001b[38;5;45mNone\u001b[0m, \u001b[38;5;34m80\u001b[0m)             │             \u001b[38;5;34m0\u001b[0m │\n",
              "├─────────────────────────────────┼────────────────────────┼───────────────┤\n",
              "│ dense (\u001b[38;5;33mDense\u001b[0m)                   │ (\u001b[38;5;45mNone\u001b[0m, \u001b[38;5;34m1\u001b[0m)              │            \u001b[38;5;34m81\u001b[0m │\n",
              "└─────────────────────────────────┴────────────────────────┴───────────────┘\n"
            ]
          },
          "metadata": {},
          "output_type": "display_data"
        },
        {
          "data": {
            "text/html": [
              "<pre style=\"white-space:pre;overflow-x:auto;line-height:normal;font-family:Menlo,'DejaVu Sans Mono',consolas,'Courier New',monospace\"><span style=\"font-weight: bold\"> Total params: </span><span style=\"color: #00af00; text-decoration-color: #00af00\">329,073</span> (1.26 MB)\n",
              "</pre>\n"
            ],
            "text/plain": [
              "\u001b[1m Total params: \u001b[0m\u001b[38;5;34m329,073\u001b[0m (1.26 MB)\n"
            ]
          },
          "metadata": {},
          "output_type": "display_data"
        },
        {
          "data": {
            "text/html": [
              "<pre style=\"white-space:pre;overflow-x:auto;line-height:normal;font-family:Menlo,'DejaVu Sans Mono',consolas,'Courier New',monospace\"><span style=\"font-weight: bold\"> Trainable params: </span><span style=\"color: #00af00; text-decoration-color: #00af00\">329,073</span> (1.26 MB)\n",
              "</pre>\n"
            ],
            "text/plain": [
              "\u001b[1m Trainable params: \u001b[0m\u001b[38;5;34m329,073\u001b[0m (1.26 MB)\n"
            ]
          },
          "metadata": {},
          "output_type": "display_data"
        },
        {
          "data": {
            "text/html": [
              "<pre style=\"white-space:pre;overflow-x:auto;line-height:normal;font-family:Menlo,'DejaVu Sans Mono',consolas,'Courier New',monospace\"><span style=\"font-weight: bold\"> Non-trainable params: </span><span style=\"color: #00af00; text-decoration-color: #00af00\">0</span> (0.00 B)\n",
              "</pre>\n"
            ],
            "text/plain": [
              "\u001b[1m Non-trainable params: \u001b[0m\u001b[38;5;34m0\u001b[0m (0.00 B)\n"
            ]
          },
          "metadata": {},
          "output_type": "display_data"
        }
      ],
      "source": [
        "hp = keras_tuner.HyperParameters()\n",
        "\n",
        "tuner = keras_tuner.RandomSearch(\n",
        "    hypermodel=buildHPmodel,\n",
        "    objective=\"mse\",\n",
        "    max_trials=500,\n",
        "    seed=15,\n",
        "    executions_per_trial=1,\n",
        "    tune_new_entries=True,\n",
        "    allow_new_entries=True,\n",
        "    max_consecutive_failed_trials=3\n",
        ")\n",
        "\n",
        "X_train, X_val, y_train, y_val = train_test_split(X_train, y_train, random_state = 0)\n",
        "tuner.search(X_train, y_train, epochs=5, validation_data=(X_val, y_val))\n",
        "tuner.results_summary()\n",
        "models = tuner.get_best_models(num_models=1)\n",
        "models[0].summary()"
      ]
    },
    {
      "cell_type": "code",
      "execution_count": null,
      "id": "4b0fd9fb-cb67-428d-961f-db646acfdfe2",
      "metadata": {
        "id": "4b0fd9fb-cb67-428d-961f-db646acfdfe2",
        "outputId": "84030854-8093-45cb-838f-b16c9a332360"
      },
      "outputs": [
        {
          "name": "stdout",
          "output_type": "stream",
          "text": [
            "Number of trials executed: 500\n"
          ]
        }
      ],
      "source": [
        "# Assuming 'tuner' is your Keras Tuner object\n",
        "num_trials_executed = len(tuner.oracle.trials)\n",
        "\n",
        "print(\"Number of trials executed:\", num_trials_executed)\n",
        "\n"
      ]
    },
    {
      "cell_type": "code",
      "execution_count": null,
      "id": "4c91b68d-bf4c-4e3b-b284-738991f21b7c",
      "metadata": {
        "id": "4c91b68d-bf4c-4e3b-b284-738991f21b7c",
        "outputId": "f3fa7110-2b0d-4531-e5b1-d22049d4134b"
      },
      "outputs": [
        {
          "name": "stdout",
          "output_type": "stream",
          "text": [
            "Epoch 1/5\n",
            "\u001b[1m6138/6138\u001b[0m \u001b[32m━━━━━━━━━━━━━━━━━━━━\u001b[0m\u001b[37m\u001b[0m \u001b[1m26s\u001b[0m 3ms/step - loss: 619.7625 - mse: 619.7625 - val_loss: 436.8280 - val_mse: 436.8280\n",
            "Epoch 2/5\n",
            "\u001b[1m6138/6138\u001b[0m \u001b[32m━━━━━━━━━━━━━━━━━━━━\u001b[0m\u001b[37m\u001b[0m \u001b[1m20s\u001b[0m 3ms/step - loss: 432.0206 - mse: 432.0206 - val_loss: 421.7751 - val_mse: 421.7751\n",
            "Epoch 3/5\n",
            "\u001b[1m6138/6138\u001b[0m \u001b[32m━━━━━━━━━━━━━━━━━━━━\u001b[0m\u001b[37m\u001b[0m \u001b[1m20s\u001b[0m 3ms/step - loss: 419.5289 - mse: 419.5289 - val_loss: 414.0992 - val_mse: 414.0992\n",
            "Epoch 4/5\n",
            "\u001b[1m6138/6138\u001b[0m \u001b[32m━━━━━━━━━━━━━━━━━━━━\u001b[0m\u001b[37m\u001b[0m \u001b[1m20s\u001b[0m 3ms/step - loss: 412.5253 - mse: 412.5253 - val_loss: 412.5972 - val_mse: 412.5972\n",
            "Epoch 5/5\n",
            "\u001b[1m6138/6138\u001b[0m \u001b[32m━━━━━━━━━━━━━━━━━━━━\u001b[0m\u001b[37m\u001b[0m \u001b[1m20s\u001b[0m 3ms/step - loss: 407.6525 - mse: 407.6525 - val_loss: 408.4116 - val_mse: 408.4116\n"
          ]
        },
        {
          "data": {
            "text/plain": [
              "<keras.src.callbacks.history.History at 0x155384190990>"
            ]
          },
          "execution_count": 67,
          "metadata": {},
          "output_type": "execute_result"
        }
      ],
      "source": [
        "# Recurrent Neural Network model (written by Genie)\n",
        "import tensorflow as tf\n",
        "import numpy as np\n",
        "import random\n",
        "\n",
        "seed_value = 42\n",
        "tf.random.set_seed(seed_value)\n",
        "np.random.seed(seed_value)\n",
        "random.seed(seed_value)\n",
        "\n",
        "import tensorflow as tf\n",
        "from tensorflow.keras.models import Sequential\n",
        "from tensorflow.keras.layers import GRU, Bidirectional, Dropout, Dense\n",
        "\n",
        "model = Sequential()\n",
        "\n",
        "# IF you are running with a GPU, try out the CuDNNLSTM layer type instead (don't pass an activation, tanh is required)\n",
        "model.add(Bidirectional(GRU(128, input_shape=[1,129], activation='relu', return_sequences=True)))\n",
        "model.add(Dropout(0.00016219921637706627))\n",
        "\n",
        "model.add(Bidirectional(GRU(40, activation='relu', return_sequences=True)))\n",
        "model.add(Dropout(0.00016219921637706627))\n",
        "\n",
        "model.add(Bidirectional(GRU(40, activation='relu', return_sequences=True)))\n",
        "model.add(Dropout(0.00016219921637706627))\n",
        "\n",
        "model.add(Dense(1, activation='linear'))\n",
        "\n",
        "opt = tf.keras.optimizers.Adam(learning_rate=0.00213954964760784) #decay=1e-6\n",
        "\n",
        "# Compile model\n",
        "model.compile(\n",
        "    loss='mse',\n",
        "    optimizer=opt,\n",
        "    metrics=['mse'],\n",
        ")\n",
        "model.fit(X_train,\n",
        "          y_train,\n",
        "          epochs=5,\n",
        "          validation_data=(X_test, y_test))"
      ]
    },
    {
      "cell_type": "code",
      "execution_count": null,
      "id": "e6dea88e-d406-4516-94ad-c2d81300962b",
      "metadata": {
        "id": "e6dea88e-d406-4516-94ad-c2d81300962b"
      },
      "outputs": [],
      "source": []
    }
  ],
  "metadata": {
    "colab": {
      "provenance": []
    },
    "kernelspec": {
      "display_name": "Python 3 (ipykernel)",
      "language": "python",
      "name": "python3"
    },
    "language_info": {
      "codemirror_mode": {
        "name": "ipython",
        "version": 3
      },
      "file_extension": ".py",
      "mimetype": "text/x-python",
      "name": "python",
      "nbconvert_exporter": "python",
      "pygments_lexer": "ipython3",
      "version": "3.11.0rc1"
    }
  },
  "nbformat": 4,
  "nbformat_minor": 5
}