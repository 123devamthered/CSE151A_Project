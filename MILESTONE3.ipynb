{
  "cells": [
    {
      "cell_type": "code",
      "execution_count": 5,
      "id": "ab873091",
      "metadata": {
        "id": "ab873091"
      },
      "outputs": [],
      "source": [
        "import pandas as pd\n",
        "import numpy as np\n",
        "import seaborn as sns\n",
        "import matplotlib.pyplot as plt"
      ]
    },
    {
      "cell_type": "markdown",
      "source": [
        "#Milestone 2: Data Exploration & Initial Preprocessing"
      ],
      "metadata": {
        "id": "FYG3UoAGiRW2"
      },
      "id": "FYG3UoAGiRW2"
    },
    {
      "cell_type": "code",
      "execution_count": 6,
      "id": "77d2f7b0",
      "metadata": {
        "colab": {
          "base_uri": "https://localhost:8080/"
        },
        "id": "77d2f7b0",
        "outputId": "b55ae72f-3236-4dff-f9b4-0109317b3470"
      },
      "outputs": [
        {
          "output_type": "stream",
          "name": "stdout",
          "text": [
            "flights.csv  sample_data\n"
          ]
        }
      ],
      "source": [
        "!ls"
      ]
    },
    {
      "cell_type": "code",
      "execution_count": 7,
      "id": "9ef1333e",
      "metadata": {
        "id": "9ef1333e"
      },
      "outputs": [],
      "source": [
        "# !unzip flights.csv.zip"
      ]
    },
    {
      "cell_type": "code",
      "execution_count": 8,
      "id": "c04bc5c4",
      "metadata": {
        "id": "c04bc5c4"
      },
      "outputs": [],
      "source": [
        "df = pd.read_csv('flights.csv')"
      ]
    },
    {
      "cell_type": "code",
      "execution_count": 9,
      "id": "jBzUummndmFS",
      "metadata": {
        "id": "jBzUummndmFS"
      },
      "outputs": [],
      "source": [
        "# from google.colab import drive\n",
        "# drive.mount('/content/drive')"
      ]
    },
    {
      "cell_type": "code",
      "execution_count": 10,
      "id": "0599a48a",
      "metadata": {
        "id": "0599a48a",
        "colab": {
          "base_uri": "https://localhost:8080/",
          "height": 412
        },
        "outputId": "884ae999-7454-4eca-bcf2-af643c2df805"
      },
      "outputs": [
        {
          "output_type": "execute_result",
          "data": {
            "text/plain": [
              "   id  year  month  day  dep_time  sched_dep_time  dep_delay  arr_time  \\\n",
              "0   0  2013      1    1     517.0             515        2.0     830.0   \n",
              "1   1  2013      1    1     533.0             529        4.0     850.0   \n",
              "2   2  2013      1    1     542.0             540        2.0     923.0   \n",
              "3   3  2013      1    1     544.0             545       -1.0    1004.0   \n",
              "4   4  2013      1    1     554.0             600       -6.0     812.0   \n",
              "\n",
              "   sched_arr_time  arr_delay  ... flight  tailnum origin dest air_time  \\\n",
              "0             819       11.0  ...   1545   N14228    EWR  IAH    227.0   \n",
              "1             830       20.0  ...   1714   N24211    LGA  IAH    227.0   \n",
              "2             850       33.0  ...   1141   N619AA    JFK  MIA    160.0   \n",
              "3            1022      -18.0  ...    725   N804JB    JFK  BQN    183.0   \n",
              "4             837      -25.0  ...    461   N668DN    LGA  ATL    116.0   \n",
              "\n",
              "   distance  hour  minute            time_hour                    name  \n",
              "0      1400     5      15  2013-01-01 05:00:00   United Air Lines Inc.  \n",
              "1      1416     5      29  2013-01-01 05:00:00   United Air Lines Inc.  \n",
              "2      1089     5      40  2013-01-01 05:00:00  American Airlines Inc.  \n",
              "3      1576     5      45  2013-01-01 05:00:00         JetBlue Airways  \n",
              "4       762     6       0  2013-01-01 06:00:00    Delta Air Lines Inc.  \n",
              "\n",
              "[5 rows x 21 columns]"
            ],
            "text/html": [
              "\n",
              "  <div id=\"df-360d8652-4984-498f-badc-5eba4bdd3271\" class=\"colab-df-container\">\n",
              "    <div>\n",
              "<style scoped>\n",
              "    .dataframe tbody tr th:only-of-type {\n",
              "        vertical-align: middle;\n",
              "    }\n",
              "\n",
              "    .dataframe tbody tr th {\n",
              "        vertical-align: top;\n",
              "    }\n",
              "\n",
              "    .dataframe thead th {\n",
              "        text-align: right;\n",
              "    }\n",
              "</style>\n",
              "<table border=\"1\" class=\"dataframe\">\n",
              "  <thead>\n",
              "    <tr style=\"text-align: right;\">\n",
              "      <th></th>\n",
              "      <th>id</th>\n",
              "      <th>year</th>\n",
              "      <th>month</th>\n",
              "      <th>day</th>\n",
              "      <th>dep_time</th>\n",
              "      <th>sched_dep_time</th>\n",
              "      <th>dep_delay</th>\n",
              "      <th>arr_time</th>\n",
              "      <th>sched_arr_time</th>\n",
              "      <th>arr_delay</th>\n",
              "      <th>...</th>\n",
              "      <th>flight</th>\n",
              "      <th>tailnum</th>\n",
              "      <th>origin</th>\n",
              "      <th>dest</th>\n",
              "      <th>air_time</th>\n",
              "      <th>distance</th>\n",
              "      <th>hour</th>\n",
              "      <th>minute</th>\n",
              "      <th>time_hour</th>\n",
              "      <th>name</th>\n",
              "    </tr>\n",
              "  </thead>\n",
              "  <tbody>\n",
              "    <tr>\n",
              "      <th>0</th>\n",
              "      <td>0</td>\n",
              "      <td>2013</td>\n",
              "      <td>1</td>\n",
              "      <td>1</td>\n",
              "      <td>517.0</td>\n",
              "      <td>515</td>\n",
              "      <td>2.0</td>\n",
              "      <td>830.0</td>\n",
              "      <td>819</td>\n",
              "      <td>11.0</td>\n",
              "      <td>...</td>\n",
              "      <td>1545</td>\n",
              "      <td>N14228</td>\n",
              "      <td>EWR</td>\n",
              "      <td>IAH</td>\n",
              "      <td>227.0</td>\n",
              "      <td>1400</td>\n",
              "      <td>5</td>\n",
              "      <td>15</td>\n",
              "      <td>2013-01-01 05:00:00</td>\n",
              "      <td>United Air Lines Inc.</td>\n",
              "    </tr>\n",
              "    <tr>\n",
              "      <th>1</th>\n",
              "      <td>1</td>\n",
              "      <td>2013</td>\n",
              "      <td>1</td>\n",
              "      <td>1</td>\n",
              "      <td>533.0</td>\n",
              "      <td>529</td>\n",
              "      <td>4.0</td>\n",
              "      <td>850.0</td>\n",
              "      <td>830</td>\n",
              "      <td>20.0</td>\n",
              "      <td>...</td>\n",
              "      <td>1714</td>\n",
              "      <td>N24211</td>\n",
              "      <td>LGA</td>\n",
              "      <td>IAH</td>\n",
              "      <td>227.0</td>\n",
              "      <td>1416</td>\n",
              "      <td>5</td>\n",
              "      <td>29</td>\n",
              "      <td>2013-01-01 05:00:00</td>\n",
              "      <td>United Air Lines Inc.</td>\n",
              "    </tr>\n",
              "    <tr>\n",
              "      <th>2</th>\n",
              "      <td>2</td>\n",
              "      <td>2013</td>\n",
              "      <td>1</td>\n",
              "      <td>1</td>\n",
              "      <td>542.0</td>\n",
              "      <td>540</td>\n",
              "      <td>2.0</td>\n",
              "      <td>923.0</td>\n",
              "      <td>850</td>\n",
              "      <td>33.0</td>\n",
              "      <td>...</td>\n",
              "      <td>1141</td>\n",
              "      <td>N619AA</td>\n",
              "      <td>JFK</td>\n",
              "      <td>MIA</td>\n",
              "      <td>160.0</td>\n",
              "      <td>1089</td>\n",
              "      <td>5</td>\n",
              "      <td>40</td>\n",
              "      <td>2013-01-01 05:00:00</td>\n",
              "      <td>American Airlines Inc.</td>\n",
              "    </tr>\n",
              "    <tr>\n",
              "      <th>3</th>\n",
              "      <td>3</td>\n",
              "      <td>2013</td>\n",
              "      <td>1</td>\n",
              "      <td>1</td>\n",
              "      <td>544.0</td>\n",
              "      <td>545</td>\n",
              "      <td>-1.0</td>\n",
              "      <td>1004.0</td>\n",
              "      <td>1022</td>\n",
              "      <td>-18.0</td>\n",
              "      <td>...</td>\n",
              "      <td>725</td>\n",
              "      <td>N804JB</td>\n",
              "      <td>JFK</td>\n",
              "      <td>BQN</td>\n",
              "      <td>183.0</td>\n",
              "      <td>1576</td>\n",
              "      <td>5</td>\n",
              "      <td>45</td>\n",
              "      <td>2013-01-01 05:00:00</td>\n",
              "      <td>JetBlue Airways</td>\n",
              "    </tr>\n",
              "    <tr>\n",
              "      <th>4</th>\n",
              "      <td>4</td>\n",
              "      <td>2013</td>\n",
              "      <td>1</td>\n",
              "      <td>1</td>\n",
              "      <td>554.0</td>\n",
              "      <td>600</td>\n",
              "      <td>-6.0</td>\n",
              "      <td>812.0</td>\n",
              "      <td>837</td>\n",
              "      <td>-25.0</td>\n",
              "      <td>...</td>\n",
              "      <td>461</td>\n",
              "      <td>N668DN</td>\n",
              "      <td>LGA</td>\n",
              "      <td>ATL</td>\n",
              "      <td>116.0</td>\n",
              "      <td>762</td>\n",
              "      <td>6</td>\n",
              "      <td>0</td>\n",
              "      <td>2013-01-01 06:00:00</td>\n",
              "      <td>Delta Air Lines Inc.</td>\n",
              "    </tr>\n",
              "  </tbody>\n",
              "</table>\n",
              "<p>5 rows × 21 columns</p>\n",
              "</div>\n",
              "    <div class=\"colab-df-buttons\">\n",
              "\n",
              "  <div class=\"colab-df-container\">\n",
              "    <button class=\"colab-df-convert\" onclick=\"convertToInteractive('df-360d8652-4984-498f-badc-5eba4bdd3271')\"\n",
              "            title=\"Convert this dataframe to an interactive table.\"\n",
              "            style=\"display:none;\">\n",
              "\n",
              "  <svg xmlns=\"http://www.w3.org/2000/svg\" height=\"24px\" viewBox=\"0 -960 960 960\">\n",
              "    <path d=\"M120-120v-720h720v720H120Zm60-500h600v-160H180v160Zm220 220h160v-160H400v160Zm0 220h160v-160H400v160ZM180-400h160v-160H180v160Zm440 0h160v-160H620v160ZM180-180h160v-160H180v160Zm440 0h160v-160H620v160Z\"/>\n",
              "  </svg>\n",
              "    </button>\n",
              "\n",
              "  <style>\n",
              "    .colab-df-container {\n",
              "      display:flex;\n",
              "      gap: 12px;\n",
              "    }\n",
              "\n",
              "    .colab-df-convert {\n",
              "      background-color: #E8F0FE;\n",
              "      border: none;\n",
              "      border-radius: 50%;\n",
              "      cursor: pointer;\n",
              "      display: none;\n",
              "      fill: #1967D2;\n",
              "      height: 32px;\n",
              "      padding: 0 0 0 0;\n",
              "      width: 32px;\n",
              "    }\n",
              "\n",
              "    .colab-df-convert:hover {\n",
              "      background-color: #E2EBFA;\n",
              "      box-shadow: 0px 1px 2px rgba(60, 64, 67, 0.3), 0px 1px 3px 1px rgba(60, 64, 67, 0.15);\n",
              "      fill: #174EA6;\n",
              "    }\n",
              "\n",
              "    .colab-df-buttons div {\n",
              "      margin-bottom: 4px;\n",
              "    }\n",
              "\n",
              "    [theme=dark] .colab-df-convert {\n",
              "      background-color: #3B4455;\n",
              "      fill: #D2E3FC;\n",
              "    }\n",
              "\n",
              "    [theme=dark] .colab-df-convert:hover {\n",
              "      background-color: #434B5C;\n",
              "      box-shadow: 0px 1px 3px 1px rgba(0, 0, 0, 0.15);\n",
              "      filter: drop-shadow(0px 1px 2px rgba(0, 0, 0, 0.3));\n",
              "      fill: #FFFFFF;\n",
              "    }\n",
              "  </style>\n",
              "\n",
              "    <script>\n",
              "      const buttonEl =\n",
              "        document.querySelector('#df-360d8652-4984-498f-badc-5eba4bdd3271 button.colab-df-convert');\n",
              "      buttonEl.style.display =\n",
              "        google.colab.kernel.accessAllowed ? 'block' : 'none';\n",
              "\n",
              "      async function convertToInteractive(key) {\n",
              "        const element = document.querySelector('#df-360d8652-4984-498f-badc-5eba4bdd3271');\n",
              "        const dataTable =\n",
              "          await google.colab.kernel.invokeFunction('convertToInteractive',\n",
              "                                                    [key], {});\n",
              "        if (!dataTable) return;\n",
              "\n",
              "        const docLinkHtml = 'Like what you see? Visit the ' +\n",
              "          '<a target=\"_blank\" href=https://colab.research.google.com/notebooks/data_table.ipynb>data table notebook</a>'\n",
              "          + ' to learn more about interactive tables.';\n",
              "        element.innerHTML = '';\n",
              "        dataTable['output_type'] = 'display_data';\n",
              "        await google.colab.output.renderOutput(dataTable, element);\n",
              "        const docLink = document.createElement('div');\n",
              "        docLink.innerHTML = docLinkHtml;\n",
              "        element.appendChild(docLink);\n",
              "      }\n",
              "    </script>\n",
              "  </div>\n",
              "\n",
              "\n",
              "<div id=\"df-a7535fa6-a3be-4908-93c9-f3f2f0124885\">\n",
              "  <button class=\"colab-df-quickchart\" onclick=\"quickchart('df-a7535fa6-a3be-4908-93c9-f3f2f0124885')\"\n",
              "            title=\"Suggest charts\"\n",
              "            style=\"display:none;\">\n",
              "\n",
              "<svg xmlns=\"http://www.w3.org/2000/svg\" height=\"24px\"viewBox=\"0 0 24 24\"\n",
              "     width=\"24px\">\n",
              "    <g>\n",
              "        <path d=\"M19 3H5c-1.1 0-2 .9-2 2v14c0 1.1.9 2 2 2h14c1.1 0 2-.9 2-2V5c0-1.1-.9-2-2-2zM9 17H7v-7h2v7zm4 0h-2V7h2v10zm4 0h-2v-4h2v4z\"/>\n",
              "    </g>\n",
              "</svg>\n",
              "  </button>\n",
              "\n",
              "<style>\n",
              "  .colab-df-quickchart {\n",
              "      --bg-color: #E8F0FE;\n",
              "      --fill-color: #1967D2;\n",
              "      --hover-bg-color: #E2EBFA;\n",
              "      --hover-fill-color: #174EA6;\n",
              "      --disabled-fill-color: #AAA;\n",
              "      --disabled-bg-color: #DDD;\n",
              "  }\n",
              "\n",
              "  [theme=dark] .colab-df-quickchart {\n",
              "      --bg-color: #3B4455;\n",
              "      --fill-color: #D2E3FC;\n",
              "      --hover-bg-color: #434B5C;\n",
              "      --hover-fill-color: #FFFFFF;\n",
              "      --disabled-bg-color: #3B4455;\n",
              "      --disabled-fill-color: #666;\n",
              "  }\n",
              "\n",
              "  .colab-df-quickchart {\n",
              "    background-color: var(--bg-color);\n",
              "    border: none;\n",
              "    border-radius: 50%;\n",
              "    cursor: pointer;\n",
              "    display: none;\n",
              "    fill: var(--fill-color);\n",
              "    height: 32px;\n",
              "    padding: 0;\n",
              "    width: 32px;\n",
              "  }\n",
              "\n",
              "  .colab-df-quickchart:hover {\n",
              "    background-color: var(--hover-bg-color);\n",
              "    box-shadow: 0 1px 2px rgba(60, 64, 67, 0.3), 0 1px 3px 1px rgba(60, 64, 67, 0.15);\n",
              "    fill: var(--button-hover-fill-color);\n",
              "  }\n",
              "\n",
              "  .colab-df-quickchart-complete:disabled,\n",
              "  .colab-df-quickchart-complete:disabled:hover {\n",
              "    background-color: var(--disabled-bg-color);\n",
              "    fill: var(--disabled-fill-color);\n",
              "    box-shadow: none;\n",
              "  }\n",
              "\n",
              "  .colab-df-spinner {\n",
              "    border: 2px solid var(--fill-color);\n",
              "    border-color: transparent;\n",
              "    border-bottom-color: var(--fill-color);\n",
              "    animation:\n",
              "      spin 1s steps(1) infinite;\n",
              "  }\n",
              "\n",
              "  @keyframes spin {\n",
              "    0% {\n",
              "      border-color: transparent;\n",
              "      border-bottom-color: var(--fill-color);\n",
              "      border-left-color: var(--fill-color);\n",
              "    }\n",
              "    20% {\n",
              "      border-color: transparent;\n",
              "      border-left-color: var(--fill-color);\n",
              "      border-top-color: var(--fill-color);\n",
              "    }\n",
              "    30% {\n",
              "      border-color: transparent;\n",
              "      border-left-color: var(--fill-color);\n",
              "      border-top-color: var(--fill-color);\n",
              "      border-right-color: var(--fill-color);\n",
              "    }\n",
              "    40% {\n",
              "      border-color: transparent;\n",
              "      border-right-color: var(--fill-color);\n",
              "      border-top-color: var(--fill-color);\n",
              "    }\n",
              "    60% {\n",
              "      border-color: transparent;\n",
              "      border-right-color: var(--fill-color);\n",
              "    }\n",
              "    80% {\n",
              "      border-color: transparent;\n",
              "      border-right-color: var(--fill-color);\n",
              "      border-bottom-color: var(--fill-color);\n",
              "    }\n",
              "    90% {\n",
              "      border-color: transparent;\n",
              "      border-bottom-color: var(--fill-color);\n",
              "    }\n",
              "  }\n",
              "</style>\n",
              "\n",
              "  <script>\n",
              "    async function quickchart(key) {\n",
              "      const quickchartButtonEl =\n",
              "        document.querySelector('#' + key + ' button');\n",
              "      quickchartButtonEl.disabled = true;  // To prevent multiple clicks.\n",
              "      quickchartButtonEl.classList.add('colab-df-spinner');\n",
              "      try {\n",
              "        const charts = await google.colab.kernel.invokeFunction(\n",
              "            'suggestCharts', [key], {});\n",
              "      } catch (error) {\n",
              "        console.error('Error during call to suggestCharts:', error);\n",
              "      }\n",
              "      quickchartButtonEl.classList.remove('colab-df-spinner');\n",
              "      quickchartButtonEl.classList.add('colab-df-quickchart-complete');\n",
              "    }\n",
              "    (() => {\n",
              "      let quickchartButtonEl =\n",
              "        document.querySelector('#df-a7535fa6-a3be-4908-93c9-f3f2f0124885 button');\n",
              "      quickchartButtonEl.style.display =\n",
              "        google.colab.kernel.accessAllowed ? 'block' : 'none';\n",
              "    })();\n",
              "  </script>\n",
              "</div>\n",
              "\n",
              "    </div>\n",
              "  </div>\n"
            ],
            "application/vnd.google.colaboratory.intrinsic+json": {
              "type": "dataframe",
              "variable_name": "df"
            }
          },
          "metadata": {},
          "execution_count": 10
        }
      ],
      "source": [
        "df.head()"
      ]
    },
    {
      "cell_type": "code",
      "execution_count": 11,
      "id": "a651b831",
      "metadata": {
        "id": "a651b831",
        "scrolled": true,
        "colab": {
          "base_uri": "https://localhost:8080/"
        },
        "outputId": "b8fcaa71-9e70-4d16-9525-b927e3c49f94"
      },
      "outputs": [
        {
          "output_type": "execute_result",
          "data": {
            "text/plain": [
              "Index(['id', 'year', 'month', 'day', 'dep_time', 'sched_dep_time', 'dep_delay',\n",
              "       'arr_time', 'sched_arr_time', 'arr_delay', 'carrier', 'flight',\n",
              "       'tailnum', 'origin', 'dest', 'air_time', 'distance', 'hour', 'minute',\n",
              "       'time_hour', 'name'],\n",
              "      dtype='object')"
            ]
          },
          "metadata": {},
          "execution_count": 11
        }
      ],
      "source": [
        "df.columns"
      ]
    },
    {
      "cell_type": "markdown",
      "source": [
        "**Column Descriptions:**\n",
        "\n",
        "id: A unique identifier for each flight record in the dataset.\n",
        "\n",
        "month: The month in which the flight took place (1 to 12).\n",
        "\n",
        "day: The day of the month on which the flight took place (1 to 31).\n",
        "\n",
        "dep_time: The actual local departure time of the flight, in 24-hour format (hhmm).\n",
        "\n",
        "sched_dep_time: The scheduled local departure time of the flight, in 24-hour format (hhmm).\n",
        "\n",
        "dep_delay: The difference between the actual and scheduled departure times of the flight, in minutes. A positive value indicates a delayed departure, while a negative value indicates an early departure.\n",
        "\n",
        "arr_time: The actual local arrival time of the flight, in 24-hour format (hhmm).\n",
        "\n",
        "sched_arr_time: The scheduled local arrival time of the flight, in 24-hour format (hhmm).\n",
        "\n",
        "arr_delay: The difference between the actual and scheduled arrival times of the flight, in minutes. A positive value indicates a delayed arrival, while a negative value indicates an early arrival.\n",
        "\n",
        "carrier: The two-letter code of the airline carrier for the flight.\n",
        "\n",
        "flight: The flight number of the flight.\n",
        "\n",
        "tailnum: The unique identifier of the aircraft used for the flight.\n",
        "\n",
        "origin: The three-letter code of the airport of origin for the flight.\n",
        "\n",
        "dest: The three-letter code of the destination airport for the flight.\n",
        "\n",
        "air_time: The duration of the flight, in minutes.\n",
        "\n",
        "distance: The distance between the origin and destination airports, in miles.\n",
        "\n"
      ],
      "metadata": {
        "id": "NmI7AsFuim4X"
      },
      "id": "NmI7AsFuim4X"
    },
    {
      "cell_type": "code",
      "execution_count": 12,
      "id": "c40fde9d",
      "metadata": {
        "id": "c40fde9d",
        "colab": {
          "base_uri": "https://localhost:8080/"
        },
        "outputId": "1894a819-4dab-46d7-efdc-032a8d7861bf"
      },
      "outputs": [
        {
          "output_type": "execute_result",
          "data": {
            "text/plain": [
              "array([2013])"
            ]
          },
          "metadata": {},
          "execution_count": 12
        }
      ],
      "source": [
        "df['year'].unique()"
      ]
    },
    {
      "cell_type": "code",
      "execution_count": 13,
      "id": "be0bb7b3",
      "metadata": {
        "id": "be0bb7b3"
      },
      "outputs": [],
      "source": [
        "df=df.drop(columns=['year', 'name', 'hour', 'minute', 'time_hour'])"
      ]
    },
    {
      "cell_type": "code",
      "execution_count": 14,
      "id": "abb0d477",
      "metadata": {
        "id": "abb0d477",
        "colab": {
          "base_uri": "https://localhost:8080/"
        },
        "outputId": "35928188-8e3e-44fd-8604-7fa1bba65c29"
      },
      "outputs": [
        {
          "output_type": "execute_result",
          "data": {
            "text/plain": [
              "id                   0\n",
              "month                0\n",
              "day                  0\n",
              "dep_time          8255\n",
              "sched_dep_time       0\n",
              "dep_delay         8255\n",
              "arr_time          8713\n",
              "sched_arr_time       0\n",
              "arr_delay         9430\n",
              "carrier              0\n",
              "flight               0\n",
              "tailnum           2512\n",
              "origin               0\n",
              "dest                 0\n",
              "air_time          9430\n",
              "distance             0\n",
              "dtype: int64"
            ]
          },
          "metadata": {},
          "execution_count": 14
        }
      ],
      "source": [
        "df.isna().sum()"
      ]
    },
    {
      "cell_type": "code",
      "execution_count": 15,
      "id": "6f2fff0a",
      "metadata": {
        "id": "6f2fff0a"
      },
      "outputs": [],
      "source": [
        "df = df.dropna(subset=['dep_time', 'arr_time', 'arr_delay', 'air_time'])"
      ]
    },
    {
      "cell_type": "code",
      "execution_count": 16,
      "id": "5ec6879e",
      "metadata": {
        "id": "5ec6879e",
        "scrolled": true,
        "colab": {
          "base_uri": "https://localhost:8080/"
        },
        "outputId": "148168a1-2ebf-4438-e49a-ac853a88a6df"
      },
      "outputs": [
        {
          "output_type": "execute_result",
          "data": {
            "text/plain": [
              "id                0\n",
              "month             0\n",
              "day               0\n",
              "dep_time          0\n",
              "sched_dep_time    0\n",
              "dep_delay         0\n",
              "arr_time          0\n",
              "sched_arr_time    0\n",
              "arr_delay         0\n",
              "carrier           0\n",
              "flight            0\n",
              "tailnum           0\n",
              "origin            0\n",
              "dest              0\n",
              "air_time          0\n",
              "distance          0\n",
              "dtype: int64"
            ]
          },
          "metadata": {},
          "execution_count": 16
        }
      ],
      "source": [
        "df.isna().sum()"
      ]
    },
    {
      "cell_type": "code",
      "execution_count": 17,
      "id": "baf3f53e",
      "metadata": {
        "id": "baf3f53e",
        "scrolled": false,
        "colab": {
          "base_uri": "https://localhost:8080/"
        },
        "outputId": "cd971b04-29da-48fc-c92a-8014af66d893"
      },
      "outputs": [
        {
          "output_type": "execute_result",
          "data": {
            "text/plain": [
              "id                  int64\n",
              "month               int64\n",
              "day                 int64\n",
              "dep_time          float64\n",
              "sched_dep_time      int64\n",
              "dep_delay         float64\n",
              "arr_time          float64\n",
              "sched_arr_time      int64\n",
              "arr_delay         float64\n",
              "carrier            object\n",
              "flight              int64\n",
              "tailnum            object\n",
              "origin             object\n",
              "dest               object\n",
              "air_time          float64\n",
              "distance            int64\n",
              "dtype: object"
            ]
          },
          "metadata": {},
          "execution_count": 17
        }
      ],
      "source": [
        "df.dtypes"
      ]
    },
    {
      "cell_type": "code",
      "execution_count": 18,
      "id": "8eac44c3",
      "metadata": {
        "id": "8eac44c3",
        "scrolled": true,
        "colab": {
          "base_uri": "https://localhost:8080/"
        },
        "outputId": "d9cd0ab2-cb05-49c8-836f-efb5640e70bf"
      },
      "outputs": [
        {
          "output_type": "stream",
          "name": "stderr",
          "text": [
            "<ipython-input-18-a06ace3481ab>:1: SettingWithCopyWarning: \n",
            "A value is trying to be set on a copy of a slice from a DataFrame.\n",
            "Try using .loc[row_indexer,col_indexer] = value instead\n",
            "\n",
            "See the caveats in the documentation: https://pandas.pydata.org/pandas-docs/stable/user_guide/indexing.html#returning-a-view-versus-a-copy\n",
            "  df['dep_time'] = df['dep_time'].astype(int)\n",
            "<ipython-input-18-a06ace3481ab>:2: SettingWithCopyWarning: \n",
            "A value is trying to be set on a copy of a slice from a DataFrame.\n",
            "Try using .loc[row_indexer,col_indexer] = value instead\n",
            "\n",
            "See the caveats in the documentation: https://pandas.pydata.org/pandas-docs/stable/user_guide/indexing.html#returning-a-view-versus-a-copy\n",
            "  df['dep_delay'] = df['dep_delay'].astype(int)\n",
            "<ipython-input-18-a06ace3481ab>:3: SettingWithCopyWarning: \n",
            "A value is trying to be set on a copy of a slice from a DataFrame.\n",
            "Try using .loc[row_indexer,col_indexer] = value instead\n",
            "\n",
            "See the caveats in the documentation: https://pandas.pydata.org/pandas-docs/stable/user_guide/indexing.html#returning-a-view-versus-a-copy\n",
            "  df['arr_time'] = df['arr_time'].astype(int)\n",
            "<ipython-input-18-a06ace3481ab>:4: SettingWithCopyWarning: \n",
            "A value is trying to be set on a copy of a slice from a DataFrame.\n",
            "Try using .loc[row_indexer,col_indexer] = value instead\n",
            "\n",
            "See the caveats in the documentation: https://pandas.pydata.org/pandas-docs/stable/user_guide/indexing.html#returning-a-view-versus-a-copy\n",
            "  df['dep_time'] = df['dep_time'].astype(int)\n",
            "<ipython-input-18-a06ace3481ab>:5: SettingWithCopyWarning: \n",
            "A value is trying to be set on a copy of a slice from a DataFrame.\n",
            "Try using .loc[row_indexer,col_indexer] = value instead\n",
            "\n",
            "See the caveats in the documentation: https://pandas.pydata.org/pandas-docs/stable/user_guide/indexing.html#returning-a-view-versus-a-copy\n",
            "  df['arr_delay'] = df['arr_delay'].astype(int)\n",
            "<ipython-input-18-a06ace3481ab>:6: SettingWithCopyWarning: \n",
            "A value is trying to be set on a copy of a slice from a DataFrame.\n",
            "Try using .loc[row_indexer,col_indexer] = value instead\n",
            "\n",
            "See the caveats in the documentation: https://pandas.pydata.org/pandas-docs/stable/user_guide/indexing.html#returning-a-view-versus-a-copy\n",
            "  df['air_time'] = df['air_time'].astype(int)\n"
          ]
        }
      ],
      "source": [
        "df['dep_time'] = df['dep_time'].astype(int)\n",
        "df['dep_delay'] = df['dep_delay'].astype(int)\n",
        "df['arr_time'] = df['arr_time'].astype(int)\n",
        "df['dep_time'] = df['dep_time'].astype(int)\n",
        "df['arr_delay'] = df['arr_delay'].astype(int)\n",
        "df['air_time'] = df['air_time'].astype(int)"
      ]
    },
    {
      "cell_type": "code",
      "execution_count": 19,
      "id": "72edf01f",
      "metadata": {
        "id": "72edf01f",
        "colab": {
          "base_uri": "https://localhost:8080/"
        },
        "outputId": "34f61d3f-9e8e-40a7-dcda-6affd87ad740"
      },
      "outputs": [
        {
          "output_type": "execute_result",
          "data": {
            "text/plain": [
              "id                 int64\n",
              "month              int64\n",
              "day                int64\n",
              "dep_time           int64\n",
              "sched_dep_time     int64\n",
              "dep_delay          int64\n",
              "arr_time           int64\n",
              "sched_arr_time     int64\n",
              "arr_delay          int64\n",
              "carrier           object\n",
              "flight             int64\n",
              "tailnum           object\n",
              "origin            object\n",
              "dest              object\n",
              "air_time           int64\n",
              "distance           int64\n",
              "dtype: object"
            ]
          },
          "metadata": {},
          "execution_count": 19
        }
      ],
      "source": [
        "df.dtypes"
      ]
    },
    {
      "cell_type": "code",
      "execution_count": 20,
      "id": "6a844f18",
      "metadata": {
        "id": "6a844f18",
        "colab": {
          "base_uri": "https://localhost:8080/"
        },
        "outputId": "b6457ddf-4201-422b-c2c8-e9cd6079e9de"
      },
      "outputs": [
        {
          "output_type": "execute_result",
          "data": {
            "text/plain": [
              "(327346, 16)"
            ]
          },
          "metadata": {},
          "execution_count": 20
        }
      ],
      "source": [
        "df.shape"
      ]
    },
    {
      "cell_type": "code",
      "execution_count": 21,
      "id": "9603cdbc",
      "metadata": {
        "id": "9603cdbc",
        "colab": {
          "base_uri": "https://localhost:8080/"
        },
        "outputId": "bb0521be-2f6a-426c-c671-c05aadd0af90"
      },
      "outputs": [
        {
          "output_type": "execute_result",
          "data": {
            "text/plain": [
              "Index(['id', 'month', 'day', 'dep_time', 'sched_dep_time', 'dep_delay',\n",
              "       'arr_time', 'sched_arr_time', 'arr_delay', 'carrier', 'flight',\n",
              "       'tailnum', 'origin', 'dest', 'air_time', 'distance'],\n",
              "      dtype='object')"
            ]
          },
          "metadata": {},
          "execution_count": 21
        }
      ],
      "source": [
        "df.columns"
      ]
    },
    {
      "cell_type": "code",
      "execution_count": 22,
      "id": "c7c00ed9",
      "metadata": {
        "id": "c7c00ed9",
        "colab": {
          "base_uri": "https://localhost:8080/"
        },
        "outputId": "07c4270e-5f2e-4282-ae4e-a121f337959a"
      },
      "outputs": [
        {
          "output_type": "execute_result",
          "data": {
            "text/plain": [
              "array([ 1, 10, 11, 12,  2,  3,  4,  5,  6,  7,  8,  9])"
            ]
          },
          "metadata": {},
          "execution_count": 22
        }
      ],
      "source": [
        "df['month'].unique()"
      ]
    },
    {
      "cell_type": "code",
      "execution_count": 23,
      "id": "3fa029d2",
      "metadata": {
        "id": "3fa029d2",
        "colab": {
          "base_uri": "https://localhost:8080/"
        },
        "outputId": "ce744ecf-b9e0-4fe7-efe6-64689e41473b"
      },
      "outputs": [
        {
          "output_type": "execute_result",
          "data": {
            "text/plain": [
              "array([ 1,  2,  3,  4,  5,  6,  7,  8,  9, 10, 11, 12, 13, 14, 15, 16, 17,\n",
              "       18, 19, 20, 21, 22, 23, 24, 25, 26, 27, 28, 29, 30, 31])"
            ]
          },
          "metadata": {},
          "execution_count": 23
        }
      ],
      "source": [
        "df['day'].unique()"
      ]
    },
    {
      "cell_type": "code",
      "execution_count": 24,
      "id": "635fa9d4",
      "metadata": {
        "id": "635fa9d4",
        "colab": {
          "base_uri": "https://localhost:8080/"
        },
        "outputId": "5a62d41b-f1c0-4d67-b5da-88af8e817f0b"
      },
      "outputs": [
        {
          "output_type": "execute_result",
          "data": {
            "text/plain": [
              "1317"
            ]
          },
          "metadata": {},
          "execution_count": 24
        }
      ],
      "source": [
        "len(df['dep_time'].unique())"
      ]
    },
    {
      "cell_type": "code",
      "execution_count": 25,
      "id": "139ac0ce",
      "metadata": {
        "id": "139ac0ce",
        "colab": {
          "base_uri": "https://localhost:8080/"
        },
        "outputId": "21b737fe-4bf2-4058-b46e-c31fca15a0b9"
      },
      "outputs": [
        {
          "output_type": "execute_result",
          "data": {
            "text/plain": [
              "1020"
            ]
          },
          "metadata": {},
          "execution_count": 25
        }
      ],
      "source": [
        "len(df['sched_dep_time'].unique())"
      ]
    },
    {
      "cell_type": "code",
      "execution_count": 26,
      "id": "4d67b4e2",
      "metadata": {
        "id": "4d67b4e2",
        "colab": {
          "base_uri": "https://localhost:8080/"
        },
        "outputId": "d1c595a9-b65b-44e4-d245-9e8a34fd24b9"
      },
      "outputs": [
        {
          "output_type": "execute_result",
          "data": {
            "text/plain": [
              "count    327346.000000\n",
              "mean         12.555156\n",
              "std          40.065688\n",
              "min         -43.000000\n",
              "25%          -5.000000\n",
              "50%          -2.000000\n",
              "75%          11.000000\n",
              "max        1301.000000\n",
              "Name: dep_delay, dtype: float64"
            ]
          },
          "metadata": {},
          "execution_count": 26
        }
      ],
      "source": [
        "df['dep_delay'].describe()"
      ]
    },
    {
      "cell_type": "code",
      "execution_count": 27,
      "id": "755b6035",
      "metadata": {
        "id": "755b6035",
        "colab": {
          "base_uri": "https://localhost:8080/"
        },
        "outputId": "f380592a-e692-4cbb-dd91-3683faf9740b"
      },
      "outputs": [
        {
          "output_type": "execute_result",
          "data": {
            "text/plain": [
              "1410"
            ]
          },
          "metadata": {},
          "execution_count": 27
        }
      ],
      "source": [
        "len(df['arr_time'].unique())"
      ]
    },
    {
      "cell_type": "code",
      "execution_count": 28,
      "id": "92cf5356",
      "metadata": {
        "id": "92cf5356",
        "colab": {
          "base_uri": "https://localhost:8080/"
        },
        "outputId": "bdbc48e6-0614-4dad-8cc0-7eb69996ee37"
      },
      "outputs": [
        {
          "output_type": "execute_result",
          "data": {
            "text/plain": [
              "1162"
            ]
          },
          "metadata": {},
          "execution_count": 28
        }
      ],
      "source": [
        "len(df['sched_arr_time'].unique())"
      ]
    },
    {
      "cell_type": "code",
      "execution_count": 29,
      "id": "3327cc23",
      "metadata": {
        "id": "3327cc23",
        "colab": {
          "base_uri": "https://localhost:8080/"
        },
        "outputId": "5855063c-432d-43e1-93ba-9c567e5d9b0a"
      },
      "outputs": [
        {
          "output_type": "execute_result",
          "data": {
            "text/plain": [
              "count    327346.000000\n",
              "mean          6.895377\n",
              "std          44.633292\n",
              "min         -86.000000\n",
              "25%         -17.000000\n",
              "50%          -5.000000\n",
              "75%          14.000000\n",
              "max        1272.000000\n",
              "Name: arr_delay, dtype: float64"
            ]
          },
          "metadata": {},
          "execution_count": 29
        }
      ],
      "source": [
        "df['arr_delay'].describe()"
      ]
    },
    {
      "cell_type": "code",
      "execution_count": 30,
      "id": "780b152b",
      "metadata": {
        "id": "780b152b",
        "colab": {
          "base_uri": "https://localhost:8080/"
        },
        "outputId": "2db325e7-ef5b-44b0-9b57-933e90335dec"
      },
      "outputs": [
        {
          "output_type": "execute_result",
          "data": {
            "text/plain": [
              "array(['UA', 'AA', 'B6', 'DL', 'EV', 'MQ', 'US', 'WN', 'VX', 'FL', 'AS',\n",
              "       '9E', 'F9', 'HA', 'YV', 'OO'], dtype=object)"
            ]
          },
          "metadata": {},
          "execution_count": 30
        }
      ],
      "source": [
        "df['carrier'].unique()"
      ]
    },
    {
      "cell_type": "code",
      "execution_count": 31,
      "id": "6d02be98",
      "metadata": {
        "id": "6d02be98",
        "colab": {
          "base_uri": "https://localhost:8080/"
        },
        "outputId": "4d25defc-9e3d-46bb-ed9c-38b0f31eaeca"
      },
      "outputs": [
        {
          "output_type": "execute_result",
          "data": {
            "text/plain": [
              "3835"
            ]
          },
          "metadata": {},
          "execution_count": 31
        }
      ],
      "source": [
        "len(df['flight'].unique())"
      ]
    },
    {
      "cell_type": "code",
      "execution_count": 32,
      "id": "12674bd8",
      "metadata": {
        "id": "12674bd8",
        "colab": {
          "base_uri": "https://localhost:8080/"
        },
        "outputId": "7410eaaf-f713-41dc-e851-ebfaae6b806d"
      },
      "outputs": [
        {
          "output_type": "execute_result",
          "data": {
            "text/plain": [
              "4037"
            ]
          },
          "metadata": {},
          "execution_count": 32
        }
      ],
      "source": [
        "len(df['tailnum'].unique())"
      ]
    },
    {
      "cell_type": "code",
      "execution_count": 33,
      "id": "44842fa5",
      "metadata": {
        "id": "44842fa5",
        "colab": {
          "base_uri": "https://localhost:8080/"
        },
        "outputId": "d074bc11-b38c-4f5d-9f0d-7c89925c7ef0"
      },
      "outputs": [
        {
          "output_type": "execute_result",
          "data": {
            "text/plain": [
              "array(['EWR', 'LGA', 'JFK'], dtype=object)"
            ]
          },
          "metadata": {},
          "execution_count": 33
        }
      ],
      "source": [
        "df['origin'].unique()"
      ]
    },
    {
      "cell_type": "code",
      "execution_count": 34,
      "id": "d1cf8bd8",
      "metadata": {
        "id": "d1cf8bd8",
        "colab": {
          "base_uri": "https://localhost:8080/"
        },
        "outputId": "ad2ed67d-8b90-4175-aea0-2c041846fdb1"
      },
      "outputs": [
        {
          "output_type": "execute_result",
          "data": {
            "text/plain": [
              "array(['IAH', 'MIA', 'BQN', 'ATL', 'ORD', 'FLL', 'IAD', 'MCO', 'PBI',\n",
              "       'TPA', 'LAX', 'SFO', 'DFW', 'BOS', 'LAS', 'MSP', 'DTW', 'RSW',\n",
              "       'SJU', 'PHX', 'BWI', 'CLT', 'BUF', 'DEN', 'SNA', 'MSY', 'SLC',\n",
              "       'XNA', 'MKE', 'SEA', 'ROC', 'SYR', 'SRQ', 'RDU', 'CMH', 'JAX',\n",
              "       'CHS', 'MEM', 'PIT', 'SAN', 'DCA', 'CLE', 'STL', 'MYR', 'JAC',\n",
              "       'MDW', 'HNL', 'BNA', 'AUS', 'BTV', 'PHL', 'STT', 'EGE', 'AVL',\n",
              "       'PWM', 'IND', 'SAV', 'CAK', 'HOU', 'LGB', 'DAY', 'ALB', 'BDL',\n",
              "       'MHT', 'MSN', 'GSO', 'CVG', 'BUR', 'RIC', 'GSP', 'GRR', 'MCI',\n",
              "       'ORF', 'SAT', 'SDF', 'PDX', 'SJC', 'OMA', 'CRW', 'OAK', 'SMF',\n",
              "       'TYS', 'PVD', 'DSM', 'PSE', 'TUL', 'BHM', 'OKC', 'CAE', 'HDN',\n",
              "       'BZN', 'MTJ', 'EYW', 'PSP', 'ACK', 'BGR', 'ABQ', 'ILM', 'MVY',\n",
              "       'SBN', 'LEX', 'CHO', 'TVC', 'ANC'], dtype=object)"
            ]
          },
          "metadata": {},
          "execution_count": 34
        }
      ],
      "source": [
        "df['dest'].unique()"
      ]
    },
    {
      "cell_type": "code",
      "execution_count": 35,
      "id": "3a625a89",
      "metadata": {
        "id": "3a625a89",
        "colab": {
          "base_uri": "https://localhost:8080/"
        },
        "outputId": "21031c51-2a64-4849-cbb4-68b49c22d9eb"
      },
      "outputs": [
        {
          "output_type": "execute_result",
          "data": {
            "text/plain": [
              "count    327346.000000\n",
              "mean        150.686460\n",
              "std          93.688305\n",
              "min          20.000000\n",
              "25%          82.000000\n",
              "50%         129.000000\n",
              "75%         192.000000\n",
              "max         695.000000\n",
              "Name: air_time, dtype: float64"
            ]
          },
          "metadata": {},
          "execution_count": 35
        }
      ],
      "source": [
        "df['air_time'].describe()"
      ]
    },
    {
      "cell_type": "code",
      "execution_count": 36,
      "id": "99206ba8",
      "metadata": {
        "id": "99206ba8",
        "colab": {
          "base_uri": "https://localhost:8080/"
        },
        "outputId": "670dbe42-1c50-4b4f-83d7-6114390cd012"
      },
      "outputs": [
        {
          "output_type": "execute_result",
          "data": {
            "text/plain": [
              "count    327346.000000\n",
              "mean       1048.371314\n",
              "std         735.908523\n",
              "min          80.000000\n",
              "25%         509.000000\n",
              "50%         888.000000\n",
              "75%        1389.000000\n",
              "max        4983.000000\n",
              "Name: distance, dtype: float64"
            ]
          },
          "metadata": {},
          "execution_count": 36
        }
      ],
      "source": [
        "df['distance'].describe()"
      ]
    },
    {
      "cell_type": "code",
      "execution_count": 37,
      "id": "988c1e7a",
      "metadata": {
        "id": "988c1e7a"
      },
      "outputs": [],
      "source": [
        "# NOTE: Pairplots from Milestone 2 currently commented out since they take a long time to run.\n",
        "\n",
        "# sns.pairplot(df, hue='carrier')\n",
        "# plt.show()"
      ]
    },
    {
      "cell_type": "code",
      "execution_count": 38,
      "id": "8d5fba4a",
      "metadata": {
        "id": "8d5fba4a"
      },
      "outputs": [],
      "source": [
        "# sns.pairplot(df, hue='origin')\n",
        "# plt.show()"
      ]
    },
    {
      "cell_type": "code",
      "execution_count": 39,
      "id": "5781e71a",
      "metadata": {
        "id": "5781e71a"
      },
      "outputs": [],
      "source": [
        "# sns.pairplot(df, hue='dest')\n",
        "# plt.show()"
      ]
    },
    {
      "cell_type": "markdown",
      "source": [
        "#Milestone 3: Intial Model"
      ],
      "metadata": {
        "id": "Tklm4QhgjI-B"
      },
      "id": "Tklm4QhgjI-B"
    },
    {
      "cell_type": "code",
      "execution_count": 40,
      "id": "y5qrHoF1GfL_",
      "metadata": {
        "id": "y5qrHoF1GfL_"
      },
      "outputs": [],
      "source": [
        "# function to convert hhmm time format to number of minutes since January 1st 2013 (written by Devam)\n",
        "\n",
        "def convert_to_mins(month, day, time):\n",
        "\n",
        "    if month > 1:\n",
        "      day += 31\n",
        "    if month > 2:\n",
        "      day += 28\n",
        "    if month > 3:\n",
        "      day += 31\n",
        "    if month > 4:\n",
        "      day += 30\n",
        "    if month > 5:\n",
        "      day += 31\n",
        "    if month > 6:\n",
        "      day += 30\n",
        "    if month > 7:\n",
        "      day += 31\n",
        "    if month > 8:\n",
        "      day += 31\n",
        "    if month > 9:\n",
        "      day += 30\n",
        "    if month > 10:\n",
        "      day += 31\n",
        "    if month > 11:\n",
        "      day += 30\n",
        "\n",
        "    minutes_in_day = (day - 1) * 24 * 60\n",
        "\n",
        "    hours = time // 100\n",
        "    minutes = time % 100\n",
        "\n",
        "    total_minutes = (hours * 60) + minutes\n",
        "\n",
        "    total_minutes_passed = minutes_in_day + total_minutes\n",
        "\n",
        "    return total_minutes_passed"
      ]
    },
    {
      "cell_type": "code",
      "execution_count": 41,
      "id": "D6zNREWsZ-i0",
      "metadata": {
        "id": "D6zNREWsZ-i0"
      },
      "outputs": [],
      "source": [
        "# function that calculates time difference (\"offset\") between origin and destination airport, taking daylight savings into consideration (written by Sydney)\n",
        "# dest is string; month, day, dep_time are ints; returns int representing how many hours destination airport's time zone is ahead of origin airport's time zone\n",
        "def offset(dest, month, day, dep_time):\n",
        "\n",
        "  timezone_dict = {'ABQ':'MDT', 'ACK':'EDT', 'ALB':'EDT', 'ANC':'ADT', 'ATL':'EDT', 'AUS':'CDT', 'AVL':'EDT', 'BDL':'EDT', 'BGR':'EDT', 'BHM':'CDT', 'BNA':'CDT', 'BOS':'EDT',\n",
        " 'BQN':'ADT', 'BTV':'EDT', 'BUF':'EDT', 'BUR':'PDT', 'BWI':'EDT', 'BZN':'MDT', 'CAE':'EDT', 'CAK':'EDT', 'CHO':'EDT', 'CHS':'EDT', 'CLE':'EDT', 'CLT':'EDT',\n",
        " 'CMH':'EDT', 'CRW':'EDT', 'CVG':'EDT', 'DAY':'EDT', 'DCA':'EDT', 'DEN':'MDT', 'DFW':'CDT', 'DSM':'CDT', 'DTW':'EDT', 'EGE':'MDT', 'EYW':'EDT', 'FLL':'EDT',\n",
        " 'GRR':'EDT', 'GSO':'EDT', 'GSP':'EDT', 'HDN':'MDT', 'HNL':'HST', 'HOU':'CDT', 'IAD':'EDT', 'IAH':'CDT', 'ILM':'EDT', 'IND':'EDT', 'JAC':'MDT', 'JAX':'EDT',\n",
        " 'LAS':'PDT', 'LAX':'PDT', 'LEX':'EDT', 'LGB':'PDT', 'MCI':'CDT', 'MCO':'EDT', 'MDW':'CDT', 'MEM':'CDT', 'MHT':'EDT', 'MIA':'EDT', 'MKE':'CDT', 'MSN':'CDT',\n",
        " 'MSP':'CDT', 'MSY':'CDT', 'MTJ':'MDT', 'MVY':'EDT', 'MYR':'EDT', 'OAK':'PDT', 'OKC':'CDT', 'OMA':'CDT', 'ORD':'CDT', 'ORF':'EDT', 'PBI':'EDT', 'PDX':'PDT',\n",
        " 'PHL':'EDT', 'PHX':'MST', 'PIT':'EDT', 'PSE':'AST', 'PSP':'PDT', 'PVD':'EDT', 'PWM':'EDT', 'RDU':'EDT', 'RIC':'EDT', 'ROC':'EDT', 'RSW':'EDT', 'SAN':'PDT',\n",
        " 'SAT':'CDT', 'SAV':'EDT', 'SBN':'EDT', 'SDF':'EDT', 'SEA':'PDT', 'SFO':'PDT', 'SJC':'PDT', 'SJU':'AST', 'SLC':'MDT', 'SMF':'PDT', 'SNA':'PDT', 'SRQ':'EDT',\n",
        " 'STL':'CDT', 'STT':'AST', 'SYR':'EDT', 'TPA':'EDT', 'TUL':'CDT', 'TVC':'PDT', 'TYS':'PDT', 'XNA':'CDT'}\n",
        "\n",
        "  offset_dict = {'AST':0, 'MDT':-2, 'ADT':1, 'PDT':-3, 'EDT':0, 'MST':-3, 'CDT':-1, 'HST':-6}\n",
        "\n",
        "  # will not consider flights that take off and land while daylight savings turned on/off since it has negligible effect\n",
        "  # just considering whether daylight savings enforced when plane taking off, then assuming daylight savings also enforced when it landed\n",
        "  if (month >= 3 and day >= 10 and dep_time >= 200) and (month <= 11 and day <=3 and dep_time <= 200):\n",
        "    offset_dict[timezone_dict[dest]] # during daylight savings, so use offset_dict value offset directly\n",
        "  else:\n",
        "    if (timezone_dict[dest][1] == 'S'): # not during daylight savings, and doesn't observe daylight savings\n",
        "      return offset_dict[timezone_dict[dest]] + 1\n",
        "    else: # not during daylight savings, but does observe daylight savings\n",
        "      return offset_dict[timezone_dict[dest]]"
      ]
    },
    {
      "cell_type": "code",
      "execution_count": 42,
      "id": "LBXY6yYz9nU2",
      "metadata": {
        "id": "LBXY6yYz9nU2"
      },
      "outputs": [],
      "source": [
        "# oe-hot encoding of carriers, origin airports, and destination airports (written by Aahil)\n",
        "\n",
        "carriers = df['carrier'].unique().tolist()\n",
        "origins = df['origin'].unique().tolist()\n",
        "dests = df['dest'].unique().tolist()\n",
        "def get_carrier(carriername):\n",
        "    # return np.array(pd.get_dummies(df[['carrier']])['carrier_'+carriername].astype(int)).tolist()\n",
        "    output = [0]*len(carriers)\n",
        "    output[carriers.index(carriername)] = 1\n",
        "    return output\n",
        "\n",
        "def get_origin(originname):\n",
        "    # return np.array(pd.get_dummies(df[['origin']])['origin_'+originname].astype(int)).tolist()\n",
        "    output = [0]*len(origins)\n",
        "    output[origins.index(originname)] = 1\n",
        "    return output\n",
        "\n",
        "def get_dest(destname):\n",
        "    # return np.array(pd.get_dummies(df[['dest']])['dest_'+destname].astype(int)).tolist()\n",
        "    output = [0]*len(dests)\n",
        "    output[dests.index(destname)] = 1\n",
        "    return output\n"
      ]
    },
    {
      "cell_type": "code",
      "execution_count": 43,
      "id": "iWsirlq1-nog",
      "metadata": {
        "id": "iWsirlq1-nog",
        "colab": {
          "base_uri": "https://localhost:8080/"
        },
        "outputId": "c21c6788-0110-418c-e03c-5db2d2f0a3ea"
      },
      "outputs": [
        {
          "output_type": "execute_result",
          "data": {
            "text/plain": [
              "[0, 1, 0, 0, 0, 0, 0, 0, 0, 0, 0, 0, 0, 0, 0, 0]"
            ]
          },
          "metadata": {},
          "execution_count": 43
        }
      ],
      "source": [
        "get_carrier('AA')"
      ]
    },
    {
      "cell_type": "code",
      "execution_count": 44,
      "id": "w95Oie_k-7Ai",
      "metadata": {
        "id": "w95Oie_k-7Ai",
        "colab": {
          "base_uri": "https://localhost:8080/",
          "height": 206
        },
        "outputId": "137e52f0-4015-4765-fb8b-f9ebdc37c71a"
      },
      "outputs": [
        {
          "output_type": "execute_result",
          "data": {
            "text/plain": [
              "   id  month  day  dep_time  sched_dep_time  dep_delay  arr_time  \\\n",
              "0   0      1    1       517             515          2       830   \n",
              "1   1      1    1       533             529          4       850   \n",
              "2   2      1    1       542             540          2       923   \n",
              "3   3      1    1       544             545         -1      1004   \n",
              "4   4      1    1       554             600         -6       812   \n",
              "\n",
              "   sched_arr_time  arr_delay carrier  flight tailnum origin dest  air_time  \\\n",
              "0             819         11      UA    1545  N14228    EWR  IAH       227   \n",
              "1             830         20      UA    1714  N24211    LGA  IAH       227   \n",
              "2             850         33      AA    1141  N619AA    JFK  MIA       160   \n",
              "3            1022        -18      B6     725  N804JB    JFK  BQN       183   \n",
              "4             837        -25      DL     461  N668DN    LGA  ATL       116   \n",
              "\n",
              "   distance  \n",
              "0      1400  \n",
              "1      1416  \n",
              "2      1089  \n",
              "3      1576  \n",
              "4       762  "
            ],
            "text/html": [
              "\n",
              "  <div id=\"df-2f0c65a5-4471-48a1-abc0-01ac1161c3a9\" class=\"colab-df-container\">\n",
              "    <div>\n",
              "<style scoped>\n",
              "    .dataframe tbody tr th:only-of-type {\n",
              "        vertical-align: middle;\n",
              "    }\n",
              "\n",
              "    .dataframe tbody tr th {\n",
              "        vertical-align: top;\n",
              "    }\n",
              "\n",
              "    .dataframe thead th {\n",
              "        text-align: right;\n",
              "    }\n",
              "</style>\n",
              "<table border=\"1\" class=\"dataframe\">\n",
              "  <thead>\n",
              "    <tr style=\"text-align: right;\">\n",
              "      <th></th>\n",
              "      <th>id</th>\n",
              "      <th>month</th>\n",
              "      <th>day</th>\n",
              "      <th>dep_time</th>\n",
              "      <th>sched_dep_time</th>\n",
              "      <th>dep_delay</th>\n",
              "      <th>arr_time</th>\n",
              "      <th>sched_arr_time</th>\n",
              "      <th>arr_delay</th>\n",
              "      <th>carrier</th>\n",
              "      <th>flight</th>\n",
              "      <th>tailnum</th>\n",
              "      <th>origin</th>\n",
              "      <th>dest</th>\n",
              "      <th>air_time</th>\n",
              "      <th>distance</th>\n",
              "    </tr>\n",
              "  </thead>\n",
              "  <tbody>\n",
              "    <tr>\n",
              "      <th>0</th>\n",
              "      <td>0</td>\n",
              "      <td>1</td>\n",
              "      <td>1</td>\n",
              "      <td>517</td>\n",
              "      <td>515</td>\n",
              "      <td>2</td>\n",
              "      <td>830</td>\n",
              "      <td>819</td>\n",
              "      <td>11</td>\n",
              "      <td>UA</td>\n",
              "      <td>1545</td>\n",
              "      <td>N14228</td>\n",
              "      <td>EWR</td>\n",
              "      <td>IAH</td>\n",
              "      <td>227</td>\n",
              "      <td>1400</td>\n",
              "    </tr>\n",
              "    <tr>\n",
              "      <th>1</th>\n",
              "      <td>1</td>\n",
              "      <td>1</td>\n",
              "      <td>1</td>\n",
              "      <td>533</td>\n",
              "      <td>529</td>\n",
              "      <td>4</td>\n",
              "      <td>850</td>\n",
              "      <td>830</td>\n",
              "      <td>20</td>\n",
              "      <td>UA</td>\n",
              "      <td>1714</td>\n",
              "      <td>N24211</td>\n",
              "      <td>LGA</td>\n",
              "      <td>IAH</td>\n",
              "      <td>227</td>\n",
              "      <td>1416</td>\n",
              "    </tr>\n",
              "    <tr>\n",
              "      <th>2</th>\n",
              "      <td>2</td>\n",
              "      <td>1</td>\n",
              "      <td>1</td>\n",
              "      <td>542</td>\n",
              "      <td>540</td>\n",
              "      <td>2</td>\n",
              "      <td>923</td>\n",
              "      <td>850</td>\n",
              "      <td>33</td>\n",
              "      <td>AA</td>\n",
              "      <td>1141</td>\n",
              "      <td>N619AA</td>\n",
              "      <td>JFK</td>\n",
              "      <td>MIA</td>\n",
              "      <td>160</td>\n",
              "      <td>1089</td>\n",
              "    </tr>\n",
              "    <tr>\n",
              "      <th>3</th>\n",
              "      <td>3</td>\n",
              "      <td>1</td>\n",
              "      <td>1</td>\n",
              "      <td>544</td>\n",
              "      <td>545</td>\n",
              "      <td>-1</td>\n",
              "      <td>1004</td>\n",
              "      <td>1022</td>\n",
              "      <td>-18</td>\n",
              "      <td>B6</td>\n",
              "      <td>725</td>\n",
              "      <td>N804JB</td>\n",
              "      <td>JFK</td>\n",
              "      <td>BQN</td>\n",
              "      <td>183</td>\n",
              "      <td>1576</td>\n",
              "    </tr>\n",
              "    <tr>\n",
              "      <th>4</th>\n",
              "      <td>4</td>\n",
              "      <td>1</td>\n",
              "      <td>1</td>\n",
              "      <td>554</td>\n",
              "      <td>600</td>\n",
              "      <td>-6</td>\n",
              "      <td>812</td>\n",
              "      <td>837</td>\n",
              "      <td>-25</td>\n",
              "      <td>DL</td>\n",
              "      <td>461</td>\n",
              "      <td>N668DN</td>\n",
              "      <td>LGA</td>\n",
              "      <td>ATL</td>\n",
              "      <td>116</td>\n",
              "      <td>762</td>\n",
              "    </tr>\n",
              "  </tbody>\n",
              "</table>\n",
              "</div>\n",
              "    <div class=\"colab-df-buttons\">\n",
              "\n",
              "  <div class=\"colab-df-container\">\n",
              "    <button class=\"colab-df-convert\" onclick=\"convertToInteractive('df-2f0c65a5-4471-48a1-abc0-01ac1161c3a9')\"\n",
              "            title=\"Convert this dataframe to an interactive table.\"\n",
              "            style=\"display:none;\">\n",
              "\n",
              "  <svg xmlns=\"http://www.w3.org/2000/svg\" height=\"24px\" viewBox=\"0 -960 960 960\">\n",
              "    <path d=\"M120-120v-720h720v720H120Zm60-500h600v-160H180v160Zm220 220h160v-160H400v160Zm0 220h160v-160H400v160ZM180-400h160v-160H180v160Zm440 0h160v-160H620v160ZM180-180h160v-160H180v160Zm440 0h160v-160H620v160Z\"/>\n",
              "  </svg>\n",
              "    </button>\n",
              "\n",
              "  <style>\n",
              "    .colab-df-container {\n",
              "      display:flex;\n",
              "      gap: 12px;\n",
              "    }\n",
              "\n",
              "    .colab-df-convert {\n",
              "      background-color: #E8F0FE;\n",
              "      border: none;\n",
              "      border-radius: 50%;\n",
              "      cursor: pointer;\n",
              "      display: none;\n",
              "      fill: #1967D2;\n",
              "      height: 32px;\n",
              "      padding: 0 0 0 0;\n",
              "      width: 32px;\n",
              "    }\n",
              "\n",
              "    .colab-df-convert:hover {\n",
              "      background-color: #E2EBFA;\n",
              "      box-shadow: 0px 1px 2px rgba(60, 64, 67, 0.3), 0px 1px 3px 1px rgba(60, 64, 67, 0.15);\n",
              "      fill: #174EA6;\n",
              "    }\n",
              "\n",
              "    .colab-df-buttons div {\n",
              "      margin-bottom: 4px;\n",
              "    }\n",
              "\n",
              "    [theme=dark] .colab-df-convert {\n",
              "      background-color: #3B4455;\n",
              "      fill: #D2E3FC;\n",
              "    }\n",
              "\n",
              "    [theme=dark] .colab-df-convert:hover {\n",
              "      background-color: #434B5C;\n",
              "      box-shadow: 0px 1px 3px 1px rgba(0, 0, 0, 0.15);\n",
              "      filter: drop-shadow(0px 1px 2px rgba(0, 0, 0, 0.3));\n",
              "      fill: #FFFFFF;\n",
              "    }\n",
              "  </style>\n",
              "\n",
              "    <script>\n",
              "      const buttonEl =\n",
              "        document.querySelector('#df-2f0c65a5-4471-48a1-abc0-01ac1161c3a9 button.colab-df-convert');\n",
              "      buttonEl.style.display =\n",
              "        google.colab.kernel.accessAllowed ? 'block' : 'none';\n",
              "\n",
              "      async function convertToInteractive(key) {\n",
              "        const element = document.querySelector('#df-2f0c65a5-4471-48a1-abc0-01ac1161c3a9');\n",
              "        const dataTable =\n",
              "          await google.colab.kernel.invokeFunction('convertToInteractive',\n",
              "                                                    [key], {});\n",
              "        if (!dataTable) return;\n",
              "\n",
              "        const docLinkHtml = 'Like what you see? Visit the ' +\n",
              "          '<a target=\"_blank\" href=https://colab.research.google.com/notebooks/data_table.ipynb>data table notebook</a>'\n",
              "          + ' to learn more about interactive tables.';\n",
              "        element.innerHTML = '';\n",
              "        dataTable['output_type'] = 'display_data';\n",
              "        await google.colab.output.renderOutput(dataTable, element);\n",
              "        const docLink = document.createElement('div');\n",
              "        docLink.innerHTML = docLinkHtml;\n",
              "        element.appendChild(docLink);\n",
              "      }\n",
              "    </script>\n",
              "  </div>\n",
              "\n",
              "\n",
              "<div id=\"df-d588d39e-f01d-409a-9804-26e38546a2ac\">\n",
              "  <button class=\"colab-df-quickchart\" onclick=\"quickchart('df-d588d39e-f01d-409a-9804-26e38546a2ac')\"\n",
              "            title=\"Suggest charts\"\n",
              "            style=\"display:none;\">\n",
              "\n",
              "<svg xmlns=\"http://www.w3.org/2000/svg\" height=\"24px\"viewBox=\"0 0 24 24\"\n",
              "     width=\"24px\">\n",
              "    <g>\n",
              "        <path d=\"M19 3H5c-1.1 0-2 .9-2 2v14c0 1.1.9 2 2 2h14c1.1 0 2-.9 2-2V5c0-1.1-.9-2-2-2zM9 17H7v-7h2v7zm4 0h-2V7h2v10zm4 0h-2v-4h2v4z\"/>\n",
              "    </g>\n",
              "</svg>\n",
              "  </button>\n",
              "\n",
              "<style>\n",
              "  .colab-df-quickchart {\n",
              "      --bg-color: #E8F0FE;\n",
              "      --fill-color: #1967D2;\n",
              "      --hover-bg-color: #E2EBFA;\n",
              "      --hover-fill-color: #174EA6;\n",
              "      --disabled-fill-color: #AAA;\n",
              "      --disabled-bg-color: #DDD;\n",
              "  }\n",
              "\n",
              "  [theme=dark] .colab-df-quickchart {\n",
              "      --bg-color: #3B4455;\n",
              "      --fill-color: #D2E3FC;\n",
              "      --hover-bg-color: #434B5C;\n",
              "      --hover-fill-color: #FFFFFF;\n",
              "      --disabled-bg-color: #3B4455;\n",
              "      --disabled-fill-color: #666;\n",
              "  }\n",
              "\n",
              "  .colab-df-quickchart {\n",
              "    background-color: var(--bg-color);\n",
              "    border: none;\n",
              "    border-radius: 50%;\n",
              "    cursor: pointer;\n",
              "    display: none;\n",
              "    fill: var(--fill-color);\n",
              "    height: 32px;\n",
              "    padding: 0;\n",
              "    width: 32px;\n",
              "  }\n",
              "\n",
              "  .colab-df-quickchart:hover {\n",
              "    background-color: var(--hover-bg-color);\n",
              "    box-shadow: 0 1px 2px rgba(60, 64, 67, 0.3), 0 1px 3px 1px rgba(60, 64, 67, 0.15);\n",
              "    fill: var(--button-hover-fill-color);\n",
              "  }\n",
              "\n",
              "  .colab-df-quickchart-complete:disabled,\n",
              "  .colab-df-quickchart-complete:disabled:hover {\n",
              "    background-color: var(--disabled-bg-color);\n",
              "    fill: var(--disabled-fill-color);\n",
              "    box-shadow: none;\n",
              "  }\n",
              "\n",
              "  .colab-df-spinner {\n",
              "    border: 2px solid var(--fill-color);\n",
              "    border-color: transparent;\n",
              "    border-bottom-color: var(--fill-color);\n",
              "    animation:\n",
              "      spin 1s steps(1) infinite;\n",
              "  }\n",
              "\n",
              "  @keyframes spin {\n",
              "    0% {\n",
              "      border-color: transparent;\n",
              "      border-bottom-color: var(--fill-color);\n",
              "      border-left-color: var(--fill-color);\n",
              "    }\n",
              "    20% {\n",
              "      border-color: transparent;\n",
              "      border-left-color: var(--fill-color);\n",
              "      border-top-color: var(--fill-color);\n",
              "    }\n",
              "    30% {\n",
              "      border-color: transparent;\n",
              "      border-left-color: var(--fill-color);\n",
              "      border-top-color: var(--fill-color);\n",
              "      border-right-color: var(--fill-color);\n",
              "    }\n",
              "    40% {\n",
              "      border-color: transparent;\n",
              "      border-right-color: var(--fill-color);\n",
              "      border-top-color: var(--fill-color);\n",
              "    }\n",
              "    60% {\n",
              "      border-color: transparent;\n",
              "      border-right-color: var(--fill-color);\n",
              "    }\n",
              "    80% {\n",
              "      border-color: transparent;\n",
              "      border-right-color: var(--fill-color);\n",
              "      border-bottom-color: var(--fill-color);\n",
              "    }\n",
              "    90% {\n",
              "      border-color: transparent;\n",
              "      border-bottom-color: var(--fill-color);\n",
              "    }\n",
              "  }\n",
              "</style>\n",
              "\n",
              "  <script>\n",
              "    async function quickchart(key) {\n",
              "      const quickchartButtonEl =\n",
              "        document.querySelector('#' + key + ' button');\n",
              "      quickchartButtonEl.disabled = true;  // To prevent multiple clicks.\n",
              "      quickchartButtonEl.classList.add('colab-df-spinner');\n",
              "      try {\n",
              "        const charts = await google.colab.kernel.invokeFunction(\n",
              "            'suggestCharts', [key], {});\n",
              "      } catch (error) {\n",
              "        console.error('Error during call to suggestCharts:', error);\n",
              "      }\n",
              "      quickchartButtonEl.classList.remove('colab-df-spinner');\n",
              "      quickchartButtonEl.classList.add('colab-df-quickchart-complete');\n",
              "    }\n",
              "    (() => {\n",
              "      let quickchartButtonEl =\n",
              "        document.querySelector('#df-d588d39e-f01d-409a-9804-26e38546a2ac button');\n",
              "      quickchartButtonEl.style.display =\n",
              "        google.colab.kernel.accessAllowed ? 'block' : 'none';\n",
              "    })();\n",
              "  </script>\n",
              "</div>\n",
              "\n",
              "    </div>\n",
              "  </div>\n"
            ],
            "application/vnd.google.colaboratory.intrinsic+json": {
              "type": "dataframe",
              "variable_name": "df"
            }
          },
          "metadata": {},
          "execution_count": 44
        }
      ],
      "source": [
        "df.head()"
      ]
    },
    {
      "cell_type": "code",
      "execution_count": 45,
      "id": "104j2OtdAaDJ",
      "metadata": {
        "id": "104j2OtdAaDJ",
        "colab": {
          "base_uri": "https://localhost:8080/"
        },
        "outputId": "f7c6cd50-7a9f-468a-ef84-63e4e0414f16"
      },
      "outputs": [
        {
          "output_type": "execute_result",
          "data": {
            "text/plain": [
              "1"
            ]
          },
          "metadata": {},
          "execution_count": 45
        }
      ],
      "source": [
        " df.iloc[0]['day']"
      ]
    },
    {
      "cell_type": "code",
      "execution_count": 46,
      "id": "f5_wh7o7OHQc",
      "metadata": {
        "id": "f5_wh7o7OHQc"
      },
      "outputs": [],
      "source": [
        "# function that returns whether a flight takes off and lands on different dates (written by Sydney)\n",
        "\n",
        "def get_different_day(dest, month, day, dep_time, arr_time):\n",
        "  new_arr_time = offset(dest, month, day, dep_time) + arr_time\n",
        "  if new_arr_time < 0:\n",
        "    new_arr_time += 2400\n",
        "  if new_arr_time < dep_time:\n",
        "    return True\n",
        "  else:\n",
        "    return False"
      ]
    },
    {
      "cell_type": "code",
      "execution_count": 47,
      "id": "IUkrez97DkgL",
      "metadata": {
        "id": "IUkrez97DkgL"
      },
      "outputs": [],
      "source": [
        "def feature(index):\n",
        "  row = df.iloc[index]\n",
        "  output = [1]\n",
        "  output += [row['distance']/5000]\n",
        "  output += [convert_to_mins(row['month'], row['day'], row['sched_dep_time'])/550000]\n",
        "  arrtime = convert_to_mins(row['month'], row['day'], row['arr_time'])\n",
        "  if get_different_day(row['dest'], row['month'], row['day'], row['sched_dep_time'], row['sched_arr_time']):\n",
        "    arrtime += 60*24\n",
        "  output += [arrtime/550000]\n",
        "  output += [convert_to_mins(1, 1, row['dep_delay'])/144]\n",
        "  output += get_carrier(row['carrier'])\n",
        "  output += get_origin(row['origin'])\n",
        "  output += get_dest(row['dest'])\n",
        "  output += [offset(row.dest, row.month, row.day, row.dep_time)]\n",
        "  return np.array(output)\n"
      ]
    },
    {
      "cell_type": "code",
      "execution_count": 48,
      "id": "NRzGeWmwY8eO",
      "metadata": {
        "id": "NRzGeWmwY8eO",
        "colab": {
          "base_uri": "https://localhost:8080/"
        },
        "outputId": "11b188a9-73c5-4bf9-cebc-5edce11329b7"
      },
      "outputs": [
        {
          "output_type": "execute_result",
          "data": {
            "text/plain": [
              "129"
            ]
          },
          "metadata": {},
          "execution_count": 48
        }
      ],
      "source": [
        "len(feature(0))"
      ]
    },
    {
      "cell_type": "code",
      "execution_count": 49,
      "id": "3vab_xTtaPwv",
      "metadata": {
        "id": "3vab_xTtaPwv"
      },
      "outputs": [],
      "source": [
        "dataset = np.array([feature(i).reshape(1,129) for i in range(df.shape[0])])"
      ]
    },
    {
      "cell_type": "code",
      "execution_count": 50,
      "id": "UCFR3gBkdmDf",
      "metadata": {
        "id": "UCFR3gBkdmDf",
        "colab": {
          "base_uri": "https://localhost:8080/"
        },
        "outputId": "3b3c73fb-57d4-49df-af0b-96a4e127a0b2"
      },
      "outputs": [
        {
          "output_type": "execute_result",
          "data": {
            "text/plain": [
              "327346"
            ]
          },
          "metadata": {},
          "execution_count": 50
        }
      ],
      "source": [
        "len(dataset)"
      ]
    },
    {
      "cell_type": "code",
      "execution_count": 51,
      "id": "4gclmhnaoUOP",
      "metadata": {
        "id": "4gclmhnaoUOP",
        "colab": {
          "base_uri": "https://localhost:8080/"
        },
        "outputId": "28cf3f14-cc43-46ef-9f7a-b2d088b90cc8"
      },
      "outputs": [
        {
          "output_type": "execute_result",
          "data": {
            "text/plain": [
              "1"
            ]
          },
          "metadata": {},
          "execution_count": 51
        }
      ],
      "source": [
        "len(dataset[0])"
      ]
    },
    {
      "cell_type": "code",
      "execution_count": 52,
      "id": "l1htf3XpiV1D",
      "metadata": {
        "id": "l1htf3XpiV1D"
      },
      "outputs": [],
      "source": [
        "from sklearn.model_selection import train_test_split"
      ]
    },
    {
      "cell_type": "code",
      "execution_count": 53,
      "id": "9Ydl9OrqhzWR",
      "metadata": {
        "id": "9Ydl9OrqhzWR"
      },
      "outputs": [],
      "source": [
        "X_train, X_test, y_train, y_test = train_test_split(dataset, df.arr_delay, test_size=0.2, random_state=42)"
      ]
    },
    {
      "cell_type": "code",
      "execution_count": 54,
      "id": "M0kPtbQZjOxk",
      "metadata": {
        "id": "M0kPtbQZjOxk"
      },
      "outputs": [],
      "source": [
        "import tensorflow as tf\n",
        "from tensorflow.keras.models import Sequential\n",
        "from tensorflow.keras.layers import Dense, Dropout, LSTM, BatchNormalization\n",
        "from sklearn.metrics import mean_squared_error"
      ]
    },
    {
      "cell_type": "code",
      "execution_count": 55,
      "id": "2hrtHMskif3v",
      "metadata": {
        "id": "2hrtHMskif3v"
      },
      "outputs": [],
      "source": [
        "# Recurrent Neural Network model (written by Genie)\n",
        "\n",
        "model = Sequential()\n",
        "\n",
        "# IF you are running with a GPU, try out the CuDNNLSTM layer type instead (don't pass an activation, tanh is required)\n",
        "model.add(LSTM(128, input_shape=[1,129], activation='relu', return_sequences=True))\n",
        "model.add(Dropout(0.2))\n",
        "model.add(BatchNormalization())\n",
        "\n",
        "model.add(LSTM(128, activation='relu'))\n",
        "model.add(Dropout(0.1))\n",
        "model.add(BatchNormalization())\n",
        "\n",
        "model.add(Dense(32, activation='relu'))\n",
        "model.add(Dropout(0.2))\n",
        "\n",
        "model.add(Dense(10, activation='softmax'))\n",
        "\n",
        "opt = tf.keras.optimizers.Adam(learning_rate=0.001) #decay=1e-6\n",
        "\n",
        "# Compile model\n",
        "model.compile(\n",
        "    loss='mse',\n",
        "    optimizer=opt,\n",
        "    metrics=['mse'],\n",
        ")"
      ]
    },
    {
      "cell_type": "code",
      "execution_count": 56,
      "id": "PIHG3chmvFTd",
      "metadata": {
        "id": "PIHG3chmvFTd"
      },
      "outputs": [],
      "source": [
        "X_train = X_train.reshape(-1, 1, 129)\n",
        "X_test  = X_test.reshape(-1, 1, 129)\n",
        "# y_train = y_train.reshape(-1, 1, 1)\n",
        "# y_test = y_test.reshape(-1, 1, 1)"
      ]
    },
    {
      "cell_type": "code",
      "execution_count": 57,
      "id": "EnQBSvsVM-a4",
      "metadata": {
        "id": "EnQBSvsVM-a4",
        "colab": {
          "base_uri": "https://localhost:8080/"
        },
        "outputId": "35e751ae-3015-4904-df1e-5c093d5c4a7d"
      },
      "outputs": [
        {
          "output_type": "execute_result",
          "data": {
            "text/plain": [
              "(array([[[ 1.        ,  0.1438    ,  0.05388909,  0.05404727,\n",
              "           0.22916667,  1.        ,  0.        ,  0.        ,\n",
              "           0.        ,  0.        ,  0.        ,  0.        ,\n",
              "           0.        ,  0.        ,  0.        ,  0.        ,\n",
              "           0.        ,  0.        ,  0.        ,  0.        ,\n",
              "           0.        ,  1.        ,  0.        ,  0.        ,\n",
              "           0.        ,  0.        ,  0.        ,  0.        ,\n",
              "           1.        ,  0.        ,  0.        ,  0.        ,\n",
              "           0.        ,  0.        ,  0.        ,  0.        ,\n",
              "           0.        ,  0.        ,  0.        ,  0.        ,\n",
              "           0.        ,  0.        ,  0.        ,  0.        ,\n",
              "           0.        ,  0.        ,  0.        ,  0.        ,\n",
              "           0.        ,  0.        ,  0.        ,  0.        ,\n",
              "           0.        ,  0.        ,  0.        ,  0.        ,\n",
              "           0.        ,  0.        ,  0.        ,  0.        ,\n",
              "           0.        ,  0.        ,  0.        ,  0.        ,\n",
              "           0.        ,  0.        ,  0.        ,  0.        ,\n",
              "           0.        ,  0.        ,  0.        ,  0.        ,\n",
              "           0.        ,  0.        ,  0.        ,  0.        ,\n",
              "           0.        ,  0.        ,  0.        ,  0.        ,\n",
              "           0.        ,  0.        ,  0.        ,  0.        ,\n",
              "           0.        ,  0.        ,  0.        ,  0.        ,\n",
              "           0.        ,  0.        ,  0.        ,  0.        ,\n",
              "           0.        ,  0.        ,  0.        ,  0.        ,\n",
              "           0.        ,  0.        ,  0.        ,  0.        ,\n",
              "           0.        ,  0.        ,  0.        ,  0.        ,\n",
              "           0.        ,  0.        ,  0.        ,  0.        ,\n",
              "           0.        ,  0.        ,  0.        ,  0.        ,\n",
              "           0.        ,  0.        ,  0.        ,  0.        ,\n",
              "           0.        ,  0.        ,  0.        ,  0.        ,\n",
              "           0.        ,  0.        ,  0.        ,  0.        ,\n",
              "           0.        ,  0.        ,  0.        ,  0.        ,\n",
              "          -1.        ]],\n",
              " \n",
              "        [[ 1.        ,  0.0426    ,  0.6479    ,  0.64803091,\n",
              "           0.25      ,  0.        ,  0.        ,  0.        ,\n",
              "           0.        ,  0.        ,  1.        ,  0.        ,\n",
              "           0.        ,  0.        ,  0.        ,  0.        ,\n",
              "           0.        ,  0.        ,  0.        ,  0.        ,\n",
              "           0.        ,  0.        ,  0.        ,  1.        ,\n",
              "           0.        ,  0.        ,  0.        ,  0.        ,\n",
              "           0.        ,  0.        ,  0.        ,  0.        ,\n",
              "           0.        ,  0.        ,  0.        ,  0.        ,\n",
              "           0.        ,  0.        ,  0.        ,  0.        ,\n",
              "           0.        ,  0.        ,  0.        ,  0.        ,\n",
              "           0.        ,  0.        ,  0.        ,  0.        ,\n",
              "           0.        ,  0.        ,  0.        ,  0.        ,\n",
              "           0.        ,  0.        ,  0.        ,  0.        ,\n",
              "           0.        ,  0.        ,  0.        ,  0.        ,\n",
              "           0.        ,  0.        ,  0.        ,  0.        ,\n",
              "           1.        ,  0.        ,  0.        ,  0.        ,\n",
              "           0.        ,  0.        ,  0.        ,  0.        ,\n",
              "           0.        ,  0.        ,  0.        ,  0.        ,\n",
              "           0.        ,  0.        ,  0.        ,  0.        ,\n",
              "           0.        ,  0.        ,  0.        ,  0.        ,\n",
              "           0.        ,  0.        ,  0.        ,  0.        ,\n",
              "           0.        ,  0.        ,  0.        ,  0.        ,\n",
              "           0.        ,  0.        ,  0.        ,  0.        ,\n",
              "           0.        ,  0.        ,  0.        ,  0.        ,\n",
              "           0.        ,  0.        ,  0.        ,  0.        ,\n",
              "           0.        ,  0.        ,  0.        ,  0.        ,\n",
              "           0.        ,  0.        ,  0.        ,  0.        ,\n",
              "           0.        ,  0.        ,  0.        ,  0.        ,\n",
              "           0.        ,  0.        ,  0.        ,  0.        ,\n",
              "           0.        ,  0.        ,  0.        ,  0.        ,\n",
              "           0.        ,  0.        ,  0.        ,  0.        ,\n",
              "           0.        ]]]),\n",
              " 17752    -8\n",
              " 313100    2\n",
              " Name: arr_delay, dtype: int64,\n",
              " array([[[ 1.        ,  0.495     ,  0.85729091,  0.85759455,\n",
              "           0.24305556,  0.        ,  1.        ,  0.        ,\n",
              "           0.        ,  0.        ,  0.        ,  0.        ,\n",
              "           0.        ,  0.        ,  0.        ,  0.        ,\n",
              "           0.        ,  0.        ,  0.        ,  0.        ,\n",
              "           0.        ,  0.        ,  0.        ,  1.        ,\n",
              "           0.        ,  0.        ,  0.        ,  0.        ,\n",
              "           0.        ,  0.        ,  0.        ,  0.        ,\n",
              "           0.        ,  0.        ,  1.        ,  0.        ,\n",
              "           0.        ,  0.        ,  0.        ,  0.        ,\n",
              "           0.        ,  0.        ,  0.        ,  0.        ,\n",
              "           0.        ,  0.        ,  0.        ,  0.        ,\n",
              "           0.        ,  0.        ,  0.        ,  0.        ,\n",
              "           0.        ,  0.        ,  0.        ,  0.        ,\n",
              "           0.        ,  0.        ,  0.        ,  0.        ,\n",
              "           0.        ,  0.        ,  0.        ,  0.        ,\n",
              "           0.        ,  0.        ,  0.        ,  0.        ,\n",
              "           0.        ,  0.        ,  0.        ,  0.        ,\n",
              "           0.        ,  0.        ,  0.        ,  0.        ,\n",
              "           0.        ,  0.        ,  0.        ,  0.        ,\n",
              "           0.        ,  0.        ,  0.        ,  0.        ,\n",
              "           0.        ,  0.        ,  0.        ,  0.        ,\n",
              "           0.        ,  0.        ,  0.        ,  0.        ,\n",
              "           0.        ,  0.        ,  0.        ,  0.        ,\n",
              "           0.        ,  0.        ,  0.        ,  0.        ,\n",
              "           0.        ,  0.        ,  0.        ,  0.        ,\n",
              "           0.        ,  0.        ,  0.        ,  0.        ,\n",
              "           0.        ,  0.        ,  0.        ,  0.        ,\n",
              "           0.        ,  0.        ,  0.        ,  0.        ,\n",
              "           0.        ,  0.        ,  0.        ,  0.        ,\n",
              "           0.        ,  0.        ,  0.        ,  0.        ,\n",
              "           0.        ,  0.        ,  0.        ,  0.        ,\n",
              "          -3.        ]],\n",
              " \n",
              "        [[ 1.        ,  0.0338    ,  0.09834364,  0.09845636,\n",
              "           0.22222222,  0.        ,  0.        ,  0.        ,\n",
              "           0.        ,  1.        ,  0.        ,  0.        ,\n",
              "           0.        ,  0.        ,  0.        ,  0.        ,\n",
              "           0.        ,  0.        ,  0.        ,  0.        ,\n",
              "           0.        ,  1.        ,  0.        ,  0.        ,\n",
              "           0.        ,  0.        ,  0.        ,  0.        ,\n",
              "           0.        ,  0.        ,  0.        ,  0.        ,\n",
              "           0.        ,  0.        ,  0.        ,  0.        ,\n",
              "           0.        ,  0.        ,  0.        ,  0.        ,\n",
              "           0.        ,  0.        ,  0.        ,  0.        ,\n",
              "           1.        ,  0.        ,  0.        ,  0.        ,\n",
              "           0.        ,  0.        ,  0.        ,  0.        ,\n",
              "           0.        ,  0.        ,  0.        ,  0.        ,\n",
              "           0.        ,  0.        ,  0.        ,  0.        ,\n",
              "           0.        ,  0.        ,  0.        ,  0.        ,\n",
              "           0.        ,  0.        ,  0.        ,  0.        ,\n",
              "           0.        ,  0.        ,  0.        ,  0.        ,\n",
              "           0.        ,  0.        ,  0.        ,  0.        ,\n",
              "           0.        ,  0.        ,  0.        ,  0.        ,\n",
              "           0.        ,  0.        ,  0.        ,  0.        ,\n",
              "           0.        ,  0.        ,  0.        ,  0.        ,\n",
              "           0.        ,  0.        ,  0.        ,  0.        ,\n",
              "           0.        ,  0.        ,  0.        ,  0.        ,\n",
              "           0.        ,  0.        ,  0.        ,  0.        ,\n",
              "           0.        ,  0.        ,  0.        ,  0.        ,\n",
              "           0.        ,  0.        ,  0.        ,  0.        ,\n",
              "           0.        ,  0.        ,  0.        ,  0.        ,\n",
              "           0.        ,  0.        ,  0.        ,  0.        ,\n",
              "           0.        ,  0.        ,  0.        ,  0.        ,\n",
              "           0.        ,  0.        ,  0.        ,  0.        ,\n",
              "           0.        ,  0.        ,  0.        ,  0.        ,\n",
              "           0.        ]]]),\n",
              " 77408    -23\n",
              " 116884     0\n",
              " Name: arr_delay, dtype: int64)"
            ]
          },
          "metadata": {},
          "execution_count": 57
        }
      ],
      "source": [
        "X_train[:2], y_train[:2], X_test[:2], y_test[:2]"
      ]
    },
    {
      "cell_type": "code",
      "execution_count": 58,
      "id": "GueUSEYCogf7",
      "metadata": {
        "id": "GueUSEYCogf7",
        "colab": {
          "base_uri": "https://localhost:8080/"
        },
        "outputId": "93c2d57f-afd1-4962-ad81-46128f28eced"
      },
      "outputs": [
        {
          "output_type": "stream",
          "name": "stdout",
          "text": [
            "Epoch 1/3\n",
            "8184/8184 [==============================] - 97s 11ms/step - loss: 2044.3048 - mse: 2044.3048 - val_loss: 2014.2782 - val_mse: 2014.2782\n",
            "Epoch 2/3\n",
            "8184/8184 [==============================] - 91s 11ms/step - loss: 2044.3035 - mse: 2044.3035 - val_loss: 2014.2782 - val_mse: 2014.2782\n",
            "Epoch 3/3\n",
            "8184/8184 [==============================] - 91s 11ms/step - loss: 2044.3026 - mse: 2044.3026 - val_loss: 2014.2782 - val_mse: 2014.2782\n"
          ]
        },
        {
          "output_type": "execute_result",
          "data": {
            "text/plain": [
              "<keras.src.callbacks.History at 0x7fb6dbf46890>"
            ]
          },
          "metadata": {},
          "execution_count": 58
        }
      ],
      "source": [
        "model.fit(X_train,\n",
        "          y_train,\n",
        "          epochs=3,\n",
        "          validation_data=(X_test, y_test))"
      ]
    },
    {
      "cell_type": "code",
      "execution_count": 59,
      "id": "BU1-6w3MRvKC",
      "metadata": {
        "id": "BU1-6w3MRvKC",
        "colab": {
          "base_uri": "https://localhost:8080/"
        },
        "outputId": "ef256c01-b552-4b70-ef3b-f701b7eb3f05"
      },
      "outputs": [
        {
          "output_type": "execute_result",
          "data": {
            "text/plain": [
              "6.8759641967954295"
            ]
          },
          "metadata": {},
          "execution_count": 59
        }
      ],
      "source": [
        "np.mean(y_train)"
      ]
    },
    {
      "cell_type": "code",
      "execution_count": 60,
      "id": "8YImolX0R66X",
      "metadata": {
        "id": "8YImolX0R66X",
        "colab": {
          "base_uri": "https://localhost:8080/"
        },
        "outputId": "d82c9d68-67e5-48c0-f866-d688c95206e4"
      },
      "outputs": [
        {
          "output_type": "execute_result",
          "data": {
            "text/plain": [
              "1967.0509417086892"
            ]
          },
          "metadata": {},
          "execution_count": 60
        }
      ],
      "source": [
        "mean_squared_error(y_test, [np.mean(y_train)]*len(y_test))"
      ]
    }
  ],
  "metadata": {
    "colab": {
      "provenance": []
    },
    "kernelspec": {
      "display_name": "Python 3 (ipykernel)",
      "language": "python",
      "name": "python3"
    },
    "language_info": {
      "codemirror_mode": {
        "name": "ipython",
        "version": 3
      },
      "file_extension": ".py",
      "mimetype": "text/x-python",
      "name": "python",
      "nbconvert_exporter": "python",
      "pygments_lexer": "ipython3",
      "version": "3.12.0"
    }
  },
  "nbformat": 4,
  "nbformat_minor": 5
}